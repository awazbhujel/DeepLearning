{
  "nbformat": 4,
  "nbformat_minor": 0,
  "metadata": {
    "colab": {
      "provenance": []
    },
    "kernelspec": {
      "name": "python3",
      "display_name": "Python 3"
    },
    "language_info": {
      "name": "python"
    }
  },
  "cells": [
    {
      "cell_type": "markdown",
      "source": [
        "**What is Keras Tuner?**\n",
        "\n",
        "**Keras Tuner is a library designed to help optimize hyperparameters for machine learning models built using the Keras deep learning framework. It automates the process of finding the best set of hyperparameters, which can significantly improve the performance of models.**"
      ],
      "metadata": {
        "id": "8oqfM_dBfiHh"
      }
    },
    {
      "cell_type": "markdown",
      "source": [
        "**Why is Keras Tuner Popular?**\n",
        "\n",
        "1. Ease of Use: It integrates seamlessly with Keras and TensorFlow, making it very user-friendly for those already familiar with these frameworks.\n",
        "2. Flexibility: It supports various search algorithms like Random Search, Bayesian Optimization, and Hyperband, allowing users to choose the most suitable method for their needs.\n",
        "3. Scalability: Keras Tuner can distribute the hyperparameter tuning process across multiple GPUs or even multiple machines, making it scalable for large datasets and complex models.\n",
        "4. Customization: Users can define their custom search spaces and objectives, providing flexibility in optimizing a wide range of hyperparameters."
      ],
      "metadata": {
        "id": "d2QAfaGSfnp6"
      }
    },
    {
      "cell_type": "markdown",
      "source": [
        "**Advantages of Keras Tuner**\n",
        "\n",
        "1. Integration with Keras: Simplifies the process of hyperparameter tuning for Keras users.\n",
        "2. Supports Multiple Search Algorithms: Provides flexibility in choosing different optimization strategies.\n",
        "3. Visualization Tools: Comes with built-in tools to visualize the tuning process and results.\n",
        "4. Distributed Tuning: Can perform distributed hyperparameter tuning on multiple devices."
      ],
      "metadata": {
        "id": "YtgcKju_fti_"
      }
    },
    {
      "cell_type": "markdown",
      "source": [
        "**Disadvantages of Keras Tuner**\n",
        "\n",
        "1. Limited to Keras Models: Primarily designed for Keras, making it less useful for models built with other frameworks.\n",
        "2. Resource Intensive: Hyperparameter tuning can be computationally expensive, requiring significant time and resources.\n",
        "3. Complexity for Beginners: While it simplifies hyperparameter tuning, beginners might still find it challenging to set up the search space and understand the results."
      ],
      "metadata": {
        "id": "JFOp60eGf0qt"
      }
    },
    {
      "cell_type": "code",
      "source": [
        "import pandas as pd\n",
        "import numpy as np"
      ],
      "metadata": {
        "id": "-apQKXSre2a7"
      },
      "execution_count": 117,
      "outputs": []
    },
    {
      "cell_type": "code",
      "source": [
        "import tensorflow as tf\n",
        "from tensorflow.keras.models import Sequential\n",
        "from tensorflow.keras.layers import Dense, Dropout\n",
        "from sklearn.preprocessing import StandardScaler\n",
        "from sklearn.model_selection import train_test_split\n",
        "import keras_tuner as kt\n",
        "import numpy as np\n",
        "import matplotlib.pyplot as plt"
      ],
      "metadata": {
        "id": "j1bP_FvJxdZW"
      },
      "execution_count": 118,
      "outputs": []
    },
    {
      "cell_type": "code",
      "execution_count": 119,
      "metadata": {
        "id": "XbEBlP6dePk3"
      },
      "outputs": [],
      "source": [
        "df = pd.read_csv(\"/content/diabetes.csv\")"
      ]
    },
    {
      "cell_type": "code",
      "source": [
        "df.head()"
      ],
      "metadata": {
        "colab": {
          "base_uri": "https://localhost:8080/",
          "height": 206
        },
        "id": "_pz3VoYTe_YP",
        "outputId": "8b619cb4-6bed-4a43-d103-03ed8e7a5a87"
      },
      "execution_count": 120,
      "outputs": [
        {
          "output_type": "execute_result",
          "data": {
            "text/plain": [
              "   Pregnancies  Glucose  BloodPressure  SkinThickness  Insulin   BMI  \\\n",
              "0            6      148             72             35        0  33.6   \n",
              "1            1       85             66             29        0  26.6   \n",
              "2            8      183             64              0        0  23.3   \n",
              "3            1       89             66             23       94  28.1   \n",
              "4            0      137             40             35      168  43.1   \n",
              "\n",
              "   DiabetesPedigreeFunction  Age  Outcome  \n",
              "0                     0.627   50        1  \n",
              "1                     0.351   31        0  \n",
              "2                     0.672   32        1  \n",
              "3                     0.167   21        0  \n",
              "4                     2.288   33        1  "
            ],
            "text/html": [
              "\n",
              "  <div id=\"df-f9b5766c-1afc-47c9-a9f8-56f2449b7cce\" class=\"colab-df-container\">\n",
              "    <div>\n",
              "<style scoped>\n",
              "    .dataframe tbody tr th:only-of-type {\n",
              "        vertical-align: middle;\n",
              "    }\n",
              "\n",
              "    .dataframe tbody tr th {\n",
              "        vertical-align: top;\n",
              "    }\n",
              "\n",
              "    .dataframe thead th {\n",
              "        text-align: right;\n",
              "    }\n",
              "</style>\n",
              "<table border=\"1\" class=\"dataframe\">\n",
              "  <thead>\n",
              "    <tr style=\"text-align: right;\">\n",
              "      <th></th>\n",
              "      <th>Pregnancies</th>\n",
              "      <th>Glucose</th>\n",
              "      <th>BloodPressure</th>\n",
              "      <th>SkinThickness</th>\n",
              "      <th>Insulin</th>\n",
              "      <th>BMI</th>\n",
              "      <th>DiabetesPedigreeFunction</th>\n",
              "      <th>Age</th>\n",
              "      <th>Outcome</th>\n",
              "    </tr>\n",
              "  </thead>\n",
              "  <tbody>\n",
              "    <tr>\n",
              "      <th>0</th>\n",
              "      <td>6</td>\n",
              "      <td>148</td>\n",
              "      <td>72</td>\n",
              "      <td>35</td>\n",
              "      <td>0</td>\n",
              "      <td>33.6</td>\n",
              "      <td>0.627</td>\n",
              "      <td>50</td>\n",
              "      <td>1</td>\n",
              "    </tr>\n",
              "    <tr>\n",
              "      <th>1</th>\n",
              "      <td>1</td>\n",
              "      <td>85</td>\n",
              "      <td>66</td>\n",
              "      <td>29</td>\n",
              "      <td>0</td>\n",
              "      <td>26.6</td>\n",
              "      <td>0.351</td>\n",
              "      <td>31</td>\n",
              "      <td>0</td>\n",
              "    </tr>\n",
              "    <tr>\n",
              "      <th>2</th>\n",
              "      <td>8</td>\n",
              "      <td>183</td>\n",
              "      <td>64</td>\n",
              "      <td>0</td>\n",
              "      <td>0</td>\n",
              "      <td>23.3</td>\n",
              "      <td>0.672</td>\n",
              "      <td>32</td>\n",
              "      <td>1</td>\n",
              "    </tr>\n",
              "    <tr>\n",
              "      <th>3</th>\n",
              "      <td>1</td>\n",
              "      <td>89</td>\n",
              "      <td>66</td>\n",
              "      <td>23</td>\n",
              "      <td>94</td>\n",
              "      <td>28.1</td>\n",
              "      <td>0.167</td>\n",
              "      <td>21</td>\n",
              "      <td>0</td>\n",
              "    </tr>\n",
              "    <tr>\n",
              "      <th>4</th>\n",
              "      <td>0</td>\n",
              "      <td>137</td>\n",
              "      <td>40</td>\n",
              "      <td>35</td>\n",
              "      <td>168</td>\n",
              "      <td>43.1</td>\n",
              "      <td>2.288</td>\n",
              "      <td>33</td>\n",
              "      <td>1</td>\n",
              "    </tr>\n",
              "  </tbody>\n",
              "</table>\n",
              "</div>\n",
              "    <div class=\"colab-df-buttons\">\n",
              "\n",
              "  <div class=\"colab-df-container\">\n",
              "    <button class=\"colab-df-convert\" onclick=\"convertToInteractive('df-f9b5766c-1afc-47c9-a9f8-56f2449b7cce')\"\n",
              "            title=\"Convert this dataframe to an interactive table.\"\n",
              "            style=\"display:none;\">\n",
              "\n",
              "  <svg xmlns=\"http://www.w3.org/2000/svg\" height=\"24px\" viewBox=\"0 -960 960 960\">\n",
              "    <path d=\"M120-120v-720h720v720H120Zm60-500h600v-160H180v160Zm220 220h160v-160H400v160Zm0 220h160v-160H400v160ZM180-400h160v-160H180v160Zm440 0h160v-160H620v160ZM180-180h160v-160H180v160Zm440 0h160v-160H620v160Z\"/>\n",
              "  </svg>\n",
              "    </button>\n",
              "\n",
              "  <style>\n",
              "    .colab-df-container {\n",
              "      display:flex;\n",
              "      gap: 12px;\n",
              "    }\n",
              "\n",
              "    .colab-df-convert {\n",
              "      background-color: #E8F0FE;\n",
              "      border: none;\n",
              "      border-radius: 50%;\n",
              "      cursor: pointer;\n",
              "      display: none;\n",
              "      fill: #1967D2;\n",
              "      height: 32px;\n",
              "      padding: 0 0 0 0;\n",
              "      width: 32px;\n",
              "    }\n",
              "\n",
              "    .colab-df-convert:hover {\n",
              "      background-color: #E2EBFA;\n",
              "      box-shadow: 0px 1px 2px rgba(60, 64, 67, 0.3), 0px 1px 3px 1px rgba(60, 64, 67, 0.15);\n",
              "      fill: #174EA6;\n",
              "    }\n",
              "\n",
              "    .colab-df-buttons div {\n",
              "      margin-bottom: 4px;\n",
              "    }\n",
              "\n",
              "    [theme=dark] .colab-df-convert {\n",
              "      background-color: #3B4455;\n",
              "      fill: #D2E3FC;\n",
              "    }\n",
              "\n",
              "    [theme=dark] .colab-df-convert:hover {\n",
              "      background-color: #434B5C;\n",
              "      box-shadow: 0px 1px 3px 1px rgba(0, 0, 0, 0.15);\n",
              "      filter: drop-shadow(0px 1px 2px rgba(0, 0, 0, 0.3));\n",
              "      fill: #FFFFFF;\n",
              "    }\n",
              "  </style>\n",
              "\n",
              "    <script>\n",
              "      const buttonEl =\n",
              "        document.querySelector('#df-f9b5766c-1afc-47c9-a9f8-56f2449b7cce button.colab-df-convert');\n",
              "      buttonEl.style.display =\n",
              "        google.colab.kernel.accessAllowed ? 'block' : 'none';\n",
              "\n",
              "      async function convertToInteractive(key) {\n",
              "        const element = document.querySelector('#df-f9b5766c-1afc-47c9-a9f8-56f2449b7cce');\n",
              "        const dataTable =\n",
              "          await google.colab.kernel.invokeFunction('convertToInteractive',\n",
              "                                                    [key], {});\n",
              "        if (!dataTable) return;\n",
              "\n",
              "        const docLinkHtml = 'Like what you see? Visit the ' +\n",
              "          '<a target=\"_blank\" href=https://colab.research.google.com/notebooks/data_table.ipynb>data table notebook</a>'\n",
              "          + ' to learn more about interactive tables.';\n",
              "        element.innerHTML = '';\n",
              "        dataTable['output_type'] = 'display_data';\n",
              "        await google.colab.output.renderOutput(dataTable, element);\n",
              "        const docLink = document.createElement('div');\n",
              "        docLink.innerHTML = docLinkHtml;\n",
              "        element.appendChild(docLink);\n",
              "      }\n",
              "    </script>\n",
              "  </div>\n",
              "\n",
              "\n",
              "<div id=\"df-66df6e2f-5fd9-4fe6-91ae-5d0672ee55fd\">\n",
              "  <button class=\"colab-df-quickchart\" onclick=\"quickchart('df-66df6e2f-5fd9-4fe6-91ae-5d0672ee55fd')\"\n",
              "            title=\"Suggest charts\"\n",
              "            style=\"display:none;\">\n",
              "\n",
              "<svg xmlns=\"http://www.w3.org/2000/svg\" height=\"24px\"viewBox=\"0 0 24 24\"\n",
              "     width=\"24px\">\n",
              "    <g>\n",
              "        <path d=\"M19 3H5c-1.1 0-2 .9-2 2v14c0 1.1.9 2 2 2h14c1.1 0 2-.9 2-2V5c0-1.1-.9-2-2-2zM9 17H7v-7h2v7zm4 0h-2V7h2v10zm4 0h-2v-4h2v4z\"/>\n",
              "    </g>\n",
              "</svg>\n",
              "  </button>\n",
              "\n",
              "<style>\n",
              "  .colab-df-quickchart {\n",
              "      --bg-color: #E8F0FE;\n",
              "      --fill-color: #1967D2;\n",
              "      --hover-bg-color: #E2EBFA;\n",
              "      --hover-fill-color: #174EA6;\n",
              "      --disabled-fill-color: #AAA;\n",
              "      --disabled-bg-color: #DDD;\n",
              "  }\n",
              "\n",
              "  [theme=dark] .colab-df-quickchart {\n",
              "      --bg-color: #3B4455;\n",
              "      --fill-color: #D2E3FC;\n",
              "      --hover-bg-color: #434B5C;\n",
              "      --hover-fill-color: #FFFFFF;\n",
              "      --disabled-bg-color: #3B4455;\n",
              "      --disabled-fill-color: #666;\n",
              "  }\n",
              "\n",
              "  .colab-df-quickchart {\n",
              "    background-color: var(--bg-color);\n",
              "    border: none;\n",
              "    border-radius: 50%;\n",
              "    cursor: pointer;\n",
              "    display: none;\n",
              "    fill: var(--fill-color);\n",
              "    height: 32px;\n",
              "    padding: 0;\n",
              "    width: 32px;\n",
              "  }\n",
              "\n",
              "  .colab-df-quickchart:hover {\n",
              "    background-color: var(--hover-bg-color);\n",
              "    box-shadow: 0 1px 2px rgba(60, 64, 67, 0.3), 0 1px 3px 1px rgba(60, 64, 67, 0.15);\n",
              "    fill: var(--button-hover-fill-color);\n",
              "  }\n",
              "\n",
              "  .colab-df-quickchart-complete:disabled,\n",
              "  .colab-df-quickchart-complete:disabled:hover {\n",
              "    background-color: var(--disabled-bg-color);\n",
              "    fill: var(--disabled-fill-color);\n",
              "    box-shadow: none;\n",
              "  }\n",
              "\n",
              "  .colab-df-spinner {\n",
              "    border: 2px solid var(--fill-color);\n",
              "    border-color: transparent;\n",
              "    border-bottom-color: var(--fill-color);\n",
              "    animation:\n",
              "      spin 1s steps(1) infinite;\n",
              "  }\n",
              "\n",
              "  @keyframes spin {\n",
              "    0% {\n",
              "      border-color: transparent;\n",
              "      border-bottom-color: var(--fill-color);\n",
              "      border-left-color: var(--fill-color);\n",
              "    }\n",
              "    20% {\n",
              "      border-color: transparent;\n",
              "      border-left-color: var(--fill-color);\n",
              "      border-top-color: var(--fill-color);\n",
              "    }\n",
              "    30% {\n",
              "      border-color: transparent;\n",
              "      border-left-color: var(--fill-color);\n",
              "      border-top-color: var(--fill-color);\n",
              "      border-right-color: var(--fill-color);\n",
              "    }\n",
              "    40% {\n",
              "      border-color: transparent;\n",
              "      border-right-color: var(--fill-color);\n",
              "      border-top-color: var(--fill-color);\n",
              "    }\n",
              "    60% {\n",
              "      border-color: transparent;\n",
              "      border-right-color: var(--fill-color);\n",
              "    }\n",
              "    80% {\n",
              "      border-color: transparent;\n",
              "      border-right-color: var(--fill-color);\n",
              "      border-bottom-color: var(--fill-color);\n",
              "    }\n",
              "    90% {\n",
              "      border-color: transparent;\n",
              "      border-bottom-color: var(--fill-color);\n",
              "    }\n",
              "  }\n",
              "</style>\n",
              "\n",
              "  <script>\n",
              "    async function quickchart(key) {\n",
              "      const quickchartButtonEl =\n",
              "        document.querySelector('#' + key + ' button');\n",
              "      quickchartButtonEl.disabled = true;  // To prevent multiple clicks.\n",
              "      quickchartButtonEl.classList.add('colab-df-spinner');\n",
              "      try {\n",
              "        const charts = await google.colab.kernel.invokeFunction(\n",
              "            'suggestCharts', [key], {});\n",
              "      } catch (error) {\n",
              "        console.error('Error during call to suggestCharts:', error);\n",
              "      }\n",
              "      quickchartButtonEl.classList.remove('colab-df-spinner');\n",
              "      quickchartButtonEl.classList.add('colab-df-quickchart-complete');\n",
              "    }\n",
              "    (() => {\n",
              "      let quickchartButtonEl =\n",
              "        document.querySelector('#df-66df6e2f-5fd9-4fe6-91ae-5d0672ee55fd button');\n",
              "      quickchartButtonEl.style.display =\n",
              "        google.colab.kernel.accessAllowed ? 'block' : 'none';\n",
              "    })();\n",
              "  </script>\n",
              "</div>\n",
              "\n",
              "    </div>\n",
              "  </div>\n"
            ],
            "application/vnd.google.colaboratory.intrinsic+json": {
              "type": "dataframe",
              "variable_name": "df",
              "summary": "{\n  \"name\": \"df\",\n  \"rows\": 768,\n  \"fields\": [\n    {\n      \"column\": \"Pregnancies\",\n      \"properties\": {\n        \"dtype\": \"number\",\n        \"std\": 3,\n        \"min\": 0,\n        \"max\": 17,\n        \"num_unique_values\": 17,\n        \"samples\": [\n          6,\n          1,\n          3\n        ],\n        \"semantic_type\": \"\",\n        \"description\": \"\"\n      }\n    },\n    {\n      \"column\": \"Glucose\",\n      \"properties\": {\n        \"dtype\": \"number\",\n        \"std\": 31,\n        \"min\": 0,\n        \"max\": 199,\n        \"num_unique_values\": 136,\n        \"samples\": [\n          151,\n          101,\n          112\n        ],\n        \"semantic_type\": \"\",\n        \"description\": \"\"\n      }\n    },\n    {\n      \"column\": \"BloodPressure\",\n      \"properties\": {\n        \"dtype\": \"number\",\n        \"std\": 19,\n        \"min\": 0,\n        \"max\": 122,\n        \"num_unique_values\": 47,\n        \"samples\": [\n          86,\n          46,\n          85\n        ],\n        \"semantic_type\": \"\",\n        \"description\": \"\"\n      }\n    },\n    {\n      \"column\": \"SkinThickness\",\n      \"properties\": {\n        \"dtype\": \"number\",\n        \"std\": 15,\n        \"min\": 0,\n        \"max\": 99,\n        \"num_unique_values\": 51,\n        \"samples\": [\n          7,\n          12,\n          48\n        ],\n        \"semantic_type\": \"\",\n        \"description\": \"\"\n      }\n    },\n    {\n      \"column\": \"Insulin\",\n      \"properties\": {\n        \"dtype\": \"number\",\n        \"std\": 115,\n        \"min\": 0,\n        \"max\": 846,\n        \"num_unique_values\": 186,\n        \"samples\": [\n          52,\n          41,\n          183\n        ],\n        \"semantic_type\": \"\",\n        \"description\": \"\"\n      }\n    },\n    {\n      \"column\": \"BMI\",\n      \"properties\": {\n        \"dtype\": \"number\",\n        \"std\": 7.884160320375446,\n        \"min\": 0.0,\n        \"max\": 67.1,\n        \"num_unique_values\": 248,\n        \"samples\": [\n          19.9,\n          31.0,\n          38.1\n        ],\n        \"semantic_type\": \"\",\n        \"description\": \"\"\n      }\n    },\n    {\n      \"column\": \"DiabetesPedigreeFunction\",\n      \"properties\": {\n        \"dtype\": \"number\",\n        \"std\": 0.3313285950127749,\n        \"min\": 0.078,\n        \"max\": 2.42,\n        \"num_unique_values\": 517,\n        \"samples\": [\n          1.731,\n          0.426,\n          0.138\n        ],\n        \"semantic_type\": \"\",\n        \"description\": \"\"\n      }\n    },\n    {\n      \"column\": \"Age\",\n      \"properties\": {\n        \"dtype\": \"number\",\n        \"std\": 11,\n        \"min\": 21,\n        \"max\": 81,\n        \"num_unique_values\": 52,\n        \"samples\": [\n          60,\n          47,\n          72\n        ],\n        \"semantic_type\": \"\",\n        \"description\": \"\"\n      }\n    },\n    {\n      \"column\": \"Outcome\",\n      \"properties\": {\n        \"dtype\": \"number\",\n        \"std\": 0,\n        \"min\": 0,\n        \"max\": 1,\n        \"num_unique_values\": 2,\n        \"samples\": [\n          0,\n          1\n        ],\n        \"semantic_type\": \"\",\n        \"description\": \"\"\n      }\n    }\n  ]\n}"
            }
          },
          "metadata": {},
          "execution_count": 120
        }
      ]
    },
    {
      "cell_type": "code",
      "source": [
        "df.isnull().sum()"
      ],
      "metadata": {
        "colab": {
          "base_uri": "https://localhost:8080/"
        },
        "id": "kKOD9ajTe_VD",
        "outputId": "10597d5c-525a-44c1-ff08-8f2218976cc1"
      },
      "execution_count": 121,
      "outputs": [
        {
          "output_type": "execute_result",
          "data": {
            "text/plain": [
              "Pregnancies                 0\n",
              "Glucose                     0\n",
              "BloodPressure               0\n",
              "SkinThickness               0\n",
              "Insulin                     0\n",
              "BMI                         0\n",
              "DiabetesPedigreeFunction    0\n",
              "Age                         0\n",
              "Outcome                     0\n",
              "dtype: int64"
            ]
          },
          "metadata": {},
          "execution_count": 121
        }
      ]
    },
    {
      "cell_type": "code",
      "source": [
        "X = df.drop(\"Outcome\", axis=1)\n",
        "y = df[\"Outcome\"]"
      ],
      "metadata": {
        "id": "s0BDoGE6e_S6"
      },
      "execution_count": 122,
      "outputs": []
    },
    {
      "cell_type": "code",
      "source": [
        "from sklearn.preprocessing import StandardScaler\n",
        "scaler = StandardScaler()\n",
        "X= scaler.fit_transform(X)"
      ],
      "metadata": {
        "id": "yS-zZrgAe_QJ"
      },
      "execution_count": 123,
      "outputs": []
    },
    {
      "cell_type": "code",
      "source": [
        "X.shape"
      ],
      "metadata": {
        "colab": {
          "base_uri": "https://localhost:8080/"
        },
        "id": "IS-xD7sye_Ne",
        "outputId": "a4df83a2-850f-4688-8717-d766fbe8a5b7"
      },
      "execution_count": 124,
      "outputs": [
        {
          "output_type": "execute_result",
          "data": {
            "text/plain": [
              "(768, 8)"
            ]
          },
          "metadata": {},
          "execution_count": 124
        }
      ]
    },
    {
      "cell_type": "code",
      "source": [
        "from sklearn.model_selection import train_test_split\n",
        "X_train,X_test,y_train,y_test = train_test_split(X,y,test_size=0.2,random_state=42)"
      ],
      "metadata": {
        "id": "_gM1iPcoe_Ku"
      },
      "execution_count": 125,
      "outputs": []
    },
    {
      "cell_type": "code",
      "source": [
        "X_train.shape,y_train.shape,X_test.shape,y_test.shape"
      ],
      "metadata": {
        "colab": {
          "base_uri": "https://localhost:8080/"
        },
        "id": "hIIa-CEye_H_",
        "outputId": "41c8938a-c92f-4292-e0ec-0de90f0b7e82"
      },
      "execution_count": 126,
      "outputs": [
        {
          "output_type": "execute_result",
          "data": {
            "text/plain": [
              "((614, 8), (614,), (154, 8), (154,))"
            ]
          },
          "metadata": {},
          "execution_count": 126
        }
      ]
    },
    {
      "cell_type": "code",
      "source": [
        "model = Sequential()\n",
        "model.add(Dense(12,activation=\"relu\",input_dim=X_train.shape[1]))\n",
        "model.add(Dense(8,activation=\"relu\"))\n",
        "model.add(Dense(1,activation=\"sigmoid\"))"
      ],
      "metadata": {
        "id": "NXI4ASeHkkjg"
      },
      "execution_count": 127,
      "outputs": []
    },
    {
      "cell_type": "code",
      "source": [
        "model.summary()"
      ],
      "metadata": {
        "colab": {
          "base_uri": "https://localhost:8080/"
        },
        "id": "G6kxefoHkkgK",
        "outputId": "1b1e0a42-4fe4-44e9-9136-e490b6559311"
      },
      "execution_count": 128,
      "outputs": [
        {
          "output_type": "stream",
          "name": "stdout",
          "text": [
            "Model: \"sequential_1\"\n",
            "_________________________________________________________________\n",
            " Layer (type)                Output Shape              Param #   \n",
            "=================================================================\n",
            " dense_9 (Dense)             (None, 12)                108       \n",
            "                                                                 \n",
            " dense_10 (Dense)            (None, 8)                 104       \n",
            "                                                                 \n",
            " dense_11 (Dense)            (None, 1)                 9         \n",
            "                                                                 \n",
            "=================================================================\n",
            "Total params: 221 (884.00 Byte)\n",
            "Trainable params: 221 (884.00 Byte)\n",
            "Non-trainable params: 0 (0.00 Byte)\n",
            "_________________________________________________________________\n"
          ]
        }
      ]
    },
    {
      "cell_type": "code",
      "source": [
        "model.compile(optimizer=\"Adam\",loss=\"binary_crossentropy\",metrics=[\"accuracy\"])"
      ],
      "metadata": {
        "id": "g9WRaZ1vkkbt"
      },
      "execution_count": 129,
      "outputs": []
    },
    {
      "cell_type": "code",
      "source": [
        "model.fit(X_train,y_train,epochs=45,validation_split=0.2,batch_size=32)"
      ],
      "metadata": {
        "colab": {
          "base_uri": "https://localhost:8080/"
        },
        "id": "0v4TV1p7kkZI",
        "outputId": "08d1d07b-0e08-4beb-db89-e7e59cebf9b2"
      },
      "execution_count": 130,
      "outputs": [
        {
          "output_type": "stream",
          "name": "stdout",
          "text": [
            "Epoch 1/45\n",
            "16/16 [==============================] - 1s 16ms/step - loss: 0.6457 - accuracy: 0.6599 - val_loss: 0.6478 - val_accuracy: 0.6829\n",
            "Epoch 2/45\n",
            "16/16 [==============================] - 0s 5ms/step - loss: 0.6199 - accuracy: 0.6884 - val_loss: 0.6302 - val_accuracy: 0.6748\n",
            "Epoch 3/45\n",
            "16/16 [==============================] - 0s 6ms/step - loss: 0.5976 - accuracy: 0.7108 - val_loss: 0.6131 - val_accuracy: 0.6748\n",
            "Epoch 4/45\n",
            "16/16 [==============================] - 0s 5ms/step - loss: 0.5779 - accuracy: 0.7088 - val_loss: 0.5981 - val_accuracy: 0.6667\n",
            "Epoch 5/45\n",
            "16/16 [==============================] - 0s 5ms/step - loss: 0.5612 - accuracy: 0.7230 - val_loss: 0.5860 - val_accuracy: 0.6829\n",
            "Epoch 6/45\n",
            "16/16 [==============================] - 0s 6ms/step - loss: 0.5441 - accuracy: 0.7434 - val_loss: 0.5720 - val_accuracy: 0.6829\n",
            "Epoch 7/45\n",
            "16/16 [==============================] - 0s 4ms/step - loss: 0.5302 - accuracy: 0.7475 - val_loss: 0.5599 - val_accuracy: 0.6748\n",
            "Epoch 8/45\n",
            "16/16 [==============================] - 0s 5ms/step - loss: 0.5169 - accuracy: 0.7597 - val_loss: 0.5515 - val_accuracy: 0.6829\n",
            "Epoch 9/45\n",
            "16/16 [==============================] - 0s 5ms/step - loss: 0.5070 - accuracy: 0.7597 - val_loss: 0.5433 - val_accuracy: 0.6748\n",
            "Epoch 10/45\n",
            "16/16 [==============================] - 0s 5ms/step - loss: 0.4979 - accuracy: 0.7617 - val_loss: 0.5357 - val_accuracy: 0.6748\n",
            "Epoch 11/45\n",
            "16/16 [==============================] - 0s 6ms/step - loss: 0.4896 - accuracy: 0.7739 - val_loss: 0.5297 - val_accuracy: 0.6829\n",
            "Epoch 12/45\n",
            "16/16 [==============================] - 0s 7ms/step - loss: 0.4840 - accuracy: 0.7760 - val_loss: 0.5227 - val_accuracy: 0.6748\n",
            "Epoch 13/45\n",
            "16/16 [==============================] - 0s 5ms/step - loss: 0.4779 - accuracy: 0.7760 - val_loss: 0.5200 - val_accuracy: 0.6667\n",
            "Epoch 14/45\n",
            "16/16 [==============================] - 0s 6ms/step - loss: 0.4728 - accuracy: 0.7780 - val_loss: 0.5146 - val_accuracy: 0.6829\n",
            "Epoch 15/45\n",
            "16/16 [==============================] - 0s 5ms/step - loss: 0.4679 - accuracy: 0.7780 - val_loss: 0.5085 - val_accuracy: 0.6911\n",
            "Epoch 16/45\n",
            "16/16 [==============================] - 0s 4ms/step - loss: 0.4638 - accuracy: 0.7821 - val_loss: 0.5031 - val_accuracy: 0.6911\n",
            "Epoch 17/45\n",
            "16/16 [==============================] - 0s 4ms/step - loss: 0.4604 - accuracy: 0.7800 - val_loss: 0.5001 - val_accuracy: 0.6911\n",
            "Epoch 18/45\n",
            "16/16 [==============================] - 0s 5ms/step - loss: 0.4571 - accuracy: 0.7821 - val_loss: 0.4968 - val_accuracy: 0.6911\n",
            "Epoch 19/45\n",
            "16/16 [==============================] - 0s 5ms/step - loss: 0.4538 - accuracy: 0.7780 - val_loss: 0.4927 - val_accuracy: 0.6911\n",
            "Epoch 20/45\n",
            "16/16 [==============================] - 0s 4ms/step - loss: 0.4518 - accuracy: 0.7862 - val_loss: 0.4924 - val_accuracy: 0.6992\n",
            "Epoch 21/45\n",
            "16/16 [==============================] - 0s 6ms/step - loss: 0.4487 - accuracy: 0.7821 - val_loss: 0.4874 - val_accuracy: 0.7236\n",
            "Epoch 22/45\n",
            "16/16 [==============================] - 0s 5ms/step - loss: 0.4460 - accuracy: 0.7882 - val_loss: 0.4857 - val_accuracy: 0.7236\n",
            "Epoch 23/45\n",
            "16/16 [==============================] - 0s 7ms/step - loss: 0.4442 - accuracy: 0.7923 - val_loss: 0.4826 - val_accuracy: 0.7398\n",
            "Epoch 24/45\n",
            "16/16 [==============================] - 0s 5ms/step - loss: 0.4417 - accuracy: 0.7862 - val_loss: 0.4808 - val_accuracy: 0.7480\n",
            "Epoch 25/45\n",
            "16/16 [==============================] - 0s 6ms/step - loss: 0.4400 - accuracy: 0.7882 - val_loss: 0.4810 - val_accuracy: 0.7480\n",
            "Epoch 26/45\n",
            "16/16 [==============================] - 0s 5ms/step - loss: 0.4375 - accuracy: 0.7943 - val_loss: 0.4781 - val_accuracy: 0.7480\n",
            "Epoch 27/45\n",
            "16/16 [==============================] - 0s 5ms/step - loss: 0.4368 - accuracy: 0.7984 - val_loss: 0.4742 - val_accuracy: 0.7480\n",
            "Epoch 28/45\n",
            "16/16 [==============================] - 0s 5ms/step - loss: 0.4348 - accuracy: 0.7984 - val_loss: 0.4759 - val_accuracy: 0.7398\n",
            "Epoch 29/45\n",
            "16/16 [==============================] - 0s 5ms/step - loss: 0.4336 - accuracy: 0.8024 - val_loss: 0.4731 - val_accuracy: 0.7480\n",
            "Epoch 30/45\n",
            "16/16 [==============================] - 0s 5ms/step - loss: 0.4321 - accuracy: 0.8024 - val_loss: 0.4730 - val_accuracy: 0.7480\n",
            "Epoch 31/45\n",
            "16/16 [==============================] - 0s 5ms/step - loss: 0.4307 - accuracy: 0.8024 - val_loss: 0.4730 - val_accuracy: 0.7480\n",
            "Epoch 32/45\n",
            "16/16 [==============================] - 0s 4ms/step - loss: 0.4290 - accuracy: 0.8024 - val_loss: 0.4736 - val_accuracy: 0.7480\n",
            "Epoch 33/45\n",
            "16/16 [==============================] - 0s 5ms/step - loss: 0.4278 - accuracy: 0.8065 - val_loss: 0.4729 - val_accuracy: 0.7480\n",
            "Epoch 34/45\n",
            "16/16 [==============================] - 0s 6ms/step - loss: 0.4273 - accuracy: 0.8004 - val_loss: 0.4720 - val_accuracy: 0.7480\n",
            "Epoch 35/45\n",
            "16/16 [==============================] - 0s 7ms/step - loss: 0.4260 - accuracy: 0.8004 - val_loss: 0.4732 - val_accuracy: 0.7561\n",
            "Epoch 36/45\n",
            "16/16 [==============================] - 0s 5ms/step - loss: 0.4255 - accuracy: 0.8024 - val_loss: 0.4712 - val_accuracy: 0.7724\n",
            "Epoch 37/45\n",
            "16/16 [==============================] - 0s 5ms/step - loss: 0.4246 - accuracy: 0.8045 - val_loss: 0.4711 - val_accuracy: 0.7724\n",
            "Epoch 38/45\n",
            "16/16 [==============================] - 0s 5ms/step - loss: 0.4235 - accuracy: 0.8045 - val_loss: 0.4728 - val_accuracy: 0.7724\n",
            "Epoch 39/45\n",
            "16/16 [==============================] - 0s 4ms/step - loss: 0.4229 - accuracy: 0.8045 - val_loss: 0.4709 - val_accuracy: 0.7724\n",
            "Epoch 40/45\n",
            "16/16 [==============================] - 0s 5ms/step - loss: 0.4223 - accuracy: 0.8065 - val_loss: 0.4713 - val_accuracy: 0.7724\n",
            "Epoch 41/45\n",
            "16/16 [==============================] - 0s 5ms/step - loss: 0.4213 - accuracy: 0.8045 - val_loss: 0.4706 - val_accuracy: 0.7724\n",
            "Epoch 42/45\n",
            "16/16 [==============================] - 0s 4ms/step - loss: 0.4208 - accuracy: 0.8045 - val_loss: 0.4708 - val_accuracy: 0.7724\n",
            "Epoch 43/45\n",
            "16/16 [==============================] - 0s 5ms/step - loss: 0.4203 - accuracy: 0.8065 - val_loss: 0.4696 - val_accuracy: 0.7724\n",
            "Epoch 44/45\n",
            "16/16 [==============================] - 0s 5ms/step - loss: 0.4193 - accuracy: 0.8065 - val_loss: 0.4684 - val_accuracy: 0.7724\n",
            "Epoch 45/45\n",
            "16/16 [==============================] - 0s 7ms/step - loss: 0.4193 - accuracy: 0.8024 - val_loss: 0.4656 - val_accuracy: 0.7642\n"
          ]
        },
        {
          "output_type": "execute_result",
          "data": {
            "text/plain": [
              "<keras.src.callbacks.History at 0x7979526680a0>"
            ]
          },
          "metadata": {},
          "execution_count": 130
        }
      ]
    },
    {
      "cell_type": "markdown",
      "source": [
        "1. how to select appropriate optimizers\n",
        "2. No. of nodes in a Layer\n",
        "3. How to select no.of hidden layers\n",
        "3. All in one model"
      ],
      "metadata": {
        "id": "jwFCQbxGmczH"
      }
    },
    {
      "cell_type": "markdown",
      "source": [
        "**Optimizers**"
      ],
      "metadata": {
        "id": "vRLTaA6Yqpcp"
      }
    },
    {
      "cell_type": "code",
      "source": [
        "def build_model(hp):\n",
        "  model = Sequential()\n",
        "  model.add(Dense(12,activation=\"relu\",input_dim=X_train.shape[1]))\n",
        "  model.add(Dense(1,activation=\"sigmoid\"))\n",
        "\n",
        "  optimizer=hp.Choice(\"optimizer\",values=[\"adam\",\"sgd\",\"rmsprop\",\"adadelta\"])\n",
        "\n",
        "  model.compile(optimizer=optimizer,loss=\"binary_crossentropy\",metrics=[\"accuracy\"])\n",
        "\n",
        "  return model"
      ],
      "metadata": {
        "id": "ZFZ5Ktm8kkUE"
      },
      "execution_count": 131,
      "outputs": []
    },
    {
      "cell_type": "markdown",
      "source": [
        "**Initialize the Random Search Tuner**"
      ],
      "metadata": {
        "id": "e-KqcivSqvSF"
      }
    },
    {
      "cell_type": "code",
      "source": [
        "tuner=kt.RandomSearch(build_model,objective=\"val_accuracy\",max_trials=5)"
      ],
      "metadata": {
        "id": "3FxqfHLskkRX"
      },
      "execution_count": 132,
      "outputs": []
    },
    {
      "cell_type": "code",
      "source": [
        "tuner.search(X_train,y_train,epochs=5,validation_split=0.2,verbose=1)"
      ],
      "metadata": {
        "id": "vpOFtrGzkkPH",
        "colab": {
          "base_uri": "https://localhost:8080/"
        },
        "outputId": "ef71d1a1-5dc8-4c02-ad7e-ffe52a3bdb59"
      },
      "execution_count": 133,
      "outputs": [
        {
          "output_type": "stream",
          "name": "stdout",
          "text": [
            "Trial 4 Complete [00h 00m 02s]\n",
            "val_accuracy: 0.6341463327407837\n",
            "\n",
            "Best val_accuracy So Far: 0.7886179089546204\n",
            "Total elapsed time: 00h 00m 09s\n"
          ]
        }
      ]
    },
    {
      "cell_type": "code",
      "source": [
        "tuner.get_best_hyperparameters()[0].values"
      ],
      "metadata": {
        "colab": {
          "base_uri": "https://localhost:8080/"
        },
        "id": "aEVqPyQoe_CP",
        "outputId": "f2b0c584-9d8f-40d1-9ab9-a3fbf626c080"
      },
      "execution_count": 134,
      "outputs": [
        {
          "output_type": "execute_result",
          "data": {
            "text/plain": [
              "{'optimizer': 'sgd'}"
            ]
          },
          "metadata": {},
          "execution_count": 134
        }
      ]
    },
    {
      "cell_type": "code",
      "source": [
        "model = tuner.get_best_models(num_models=1)[0]"
      ],
      "metadata": {
        "id": "3wjrDh9Ae-83"
      },
      "execution_count": 135,
      "outputs": []
    },
    {
      "cell_type": "code",
      "source": [
        "model.summary()"
      ],
      "metadata": {
        "colab": {
          "base_uri": "https://localhost:8080/"
        },
        "id": "hVb87EZ3e-6J",
        "outputId": "7e353aea-5a73-4e9a-9b9c-9be6841a84d8"
      },
      "execution_count": 136,
      "outputs": [
        {
          "output_type": "stream",
          "name": "stdout",
          "text": [
            "Model: \"sequential\"\n",
            "_________________________________________________________________\n",
            " Layer (type)                Output Shape              Param #   \n",
            "=================================================================\n",
            " dense (Dense)               (None, 12)                108       \n",
            "                                                                 \n",
            " dense_1 (Dense)             (None, 1)                 13        \n",
            "                                                                 \n",
            "=================================================================\n",
            "Total params: 121 (484.00 Byte)\n",
            "Trainable params: 121 (484.00 Byte)\n",
            "Non-trainable params: 0 (0.00 Byte)\n",
            "_________________________________________________________________\n"
          ]
        }
      ]
    },
    {
      "cell_type": "code",
      "source": [
        "model.fit(X_train,y_train,epochs=50,validation_split=0.2,verbose=1,batch_size=32,initial_epoch=6)"
      ],
      "metadata": {
        "colab": {
          "base_uri": "https://localhost:8080/"
        },
        "id": "wOzgDE1me-3R",
        "outputId": "c0cae263-b96a-4c96-8621-9ec2e942fa56"
      },
      "execution_count": 137,
      "outputs": [
        {
          "output_type": "stream",
          "name": "stdout",
          "text": [
            "Epoch 7/50\n",
            "16/16 [==============================] - 1s 16ms/step - loss: 0.5678 - accuracy: 0.7332 - val_loss: 0.5298 - val_accuracy: 0.7886\n",
            "Epoch 8/50\n",
            "16/16 [==============================] - 0s 4ms/step - loss: 0.5604 - accuracy: 0.7352 - val_loss: 0.5251 - val_accuracy: 0.7886\n",
            "Epoch 9/50\n",
            "16/16 [==============================] - 0s 4ms/step - loss: 0.5543 - accuracy: 0.7434 - val_loss: 0.5204 - val_accuracy: 0.7805\n",
            "Epoch 10/50\n",
            "16/16 [==============================] - 0s 5ms/step - loss: 0.5484 - accuracy: 0.7475 - val_loss: 0.5160 - val_accuracy: 0.7642\n",
            "Epoch 11/50\n",
            "16/16 [==============================] - 0s 5ms/step - loss: 0.5432 - accuracy: 0.7495 - val_loss: 0.5122 - val_accuracy: 0.7642\n",
            "Epoch 12/50\n",
            "16/16 [==============================] - 0s 4ms/step - loss: 0.5385 - accuracy: 0.7495 - val_loss: 0.5086 - val_accuracy: 0.7642\n",
            "Epoch 13/50\n",
            "16/16 [==============================] - 0s 5ms/step - loss: 0.5342 - accuracy: 0.7475 - val_loss: 0.5058 - val_accuracy: 0.7642\n",
            "Epoch 14/50\n",
            "16/16 [==============================] - 0s 6ms/step - loss: 0.5304 - accuracy: 0.7536 - val_loss: 0.5032 - val_accuracy: 0.7642\n",
            "Epoch 15/50\n",
            "16/16 [==============================] - 0s 6ms/step - loss: 0.5265 - accuracy: 0.7536 - val_loss: 0.5002 - val_accuracy: 0.7642\n",
            "Epoch 16/50\n",
            "16/16 [==============================] - 0s 5ms/step - loss: 0.5227 - accuracy: 0.7576 - val_loss: 0.4976 - val_accuracy: 0.7642\n",
            "Epoch 17/50\n",
            "16/16 [==============================] - 0s 4ms/step - loss: 0.5194 - accuracy: 0.7536 - val_loss: 0.4952 - val_accuracy: 0.7561\n",
            "Epoch 18/50\n",
            "16/16 [==============================] - 0s 4ms/step - loss: 0.5164 - accuracy: 0.7515 - val_loss: 0.4927 - val_accuracy: 0.7561\n",
            "Epoch 19/50\n",
            "16/16 [==============================] - 0s 4ms/step - loss: 0.5134 - accuracy: 0.7576 - val_loss: 0.4910 - val_accuracy: 0.7480\n",
            "Epoch 20/50\n",
            "16/16 [==============================] - 0s 5ms/step - loss: 0.5110 - accuracy: 0.7597 - val_loss: 0.4888 - val_accuracy: 0.7480\n",
            "Epoch 21/50\n",
            "16/16 [==============================] - 0s 5ms/step - loss: 0.5086 - accuracy: 0.7617 - val_loss: 0.4871 - val_accuracy: 0.7480\n",
            "Epoch 22/50\n",
            "16/16 [==============================] - 0s 5ms/step - loss: 0.5062 - accuracy: 0.7597 - val_loss: 0.4851 - val_accuracy: 0.7480\n",
            "Epoch 23/50\n",
            "16/16 [==============================] - 0s 5ms/step - loss: 0.5039 - accuracy: 0.7617 - val_loss: 0.4831 - val_accuracy: 0.7480\n",
            "Epoch 24/50\n",
            "16/16 [==============================] - 0s 5ms/step - loss: 0.5016 - accuracy: 0.7637 - val_loss: 0.4816 - val_accuracy: 0.7480\n",
            "Epoch 25/50\n",
            "16/16 [==============================] - 0s 4ms/step - loss: 0.4996 - accuracy: 0.7658 - val_loss: 0.4800 - val_accuracy: 0.7561\n",
            "Epoch 26/50\n",
            "16/16 [==============================] - 0s 5ms/step - loss: 0.4976 - accuracy: 0.7617 - val_loss: 0.4787 - val_accuracy: 0.7642\n",
            "Epoch 27/50\n",
            "16/16 [==============================] - 0s 5ms/step - loss: 0.4958 - accuracy: 0.7617 - val_loss: 0.4772 - val_accuracy: 0.7642\n",
            "Epoch 28/50\n",
            "16/16 [==============================] - 0s 5ms/step - loss: 0.4939 - accuracy: 0.7617 - val_loss: 0.4757 - val_accuracy: 0.7642\n",
            "Epoch 29/50\n",
            "16/16 [==============================] - 0s 5ms/step - loss: 0.4922 - accuracy: 0.7617 - val_loss: 0.4743 - val_accuracy: 0.7642\n",
            "Epoch 30/50\n",
            "16/16 [==============================] - 0s 4ms/step - loss: 0.4906 - accuracy: 0.7658 - val_loss: 0.4733 - val_accuracy: 0.7642\n",
            "Epoch 31/50\n",
            "16/16 [==============================] - 0s 4ms/step - loss: 0.4891 - accuracy: 0.7658 - val_loss: 0.4723 - val_accuracy: 0.7642\n",
            "Epoch 32/50\n",
            "16/16 [==============================] - 0s 4ms/step - loss: 0.4877 - accuracy: 0.7637 - val_loss: 0.4711 - val_accuracy: 0.7724\n",
            "Epoch 33/50\n",
            "16/16 [==============================] - 0s 5ms/step - loss: 0.4863 - accuracy: 0.7637 - val_loss: 0.4700 - val_accuracy: 0.7724\n",
            "Epoch 34/50\n",
            "16/16 [==============================] - 0s 4ms/step - loss: 0.4851 - accuracy: 0.7637 - val_loss: 0.4687 - val_accuracy: 0.7724\n",
            "Epoch 35/50\n",
            "16/16 [==============================] - 0s 5ms/step - loss: 0.4839 - accuracy: 0.7617 - val_loss: 0.4678 - val_accuracy: 0.7724\n",
            "Epoch 36/50\n",
            "16/16 [==============================] - 0s 4ms/step - loss: 0.4826 - accuracy: 0.7617 - val_loss: 0.4673 - val_accuracy: 0.7724\n",
            "Epoch 37/50\n",
            "16/16 [==============================] - 0s 5ms/step - loss: 0.4815 - accuracy: 0.7617 - val_loss: 0.4667 - val_accuracy: 0.7724\n",
            "Epoch 38/50\n",
            "16/16 [==============================] - 0s 5ms/step - loss: 0.4804 - accuracy: 0.7597 - val_loss: 0.4656 - val_accuracy: 0.7724\n",
            "Epoch 39/50\n",
            "16/16 [==============================] - 0s 5ms/step - loss: 0.4793 - accuracy: 0.7617 - val_loss: 0.4648 - val_accuracy: 0.7724\n",
            "Epoch 40/50\n",
            "16/16 [==============================] - 0s 5ms/step - loss: 0.4783 - accuracy: 0.7699 - val_loss: 0.4642 - val_accuracy: 0.7724\n",
            "Epoch 41/50\n",
            "16/16 [==============================] - 0s 4ms/step - loss: 0.4773 - accuracy: 0.7678 - val_loss: 0.4636 - val_accuracy: 0.7724\n",
            "Epoch 42/50\n",
            "16/16 [==============================] - 0s 5ms/step - loss: 0.4763 - accuracy: 0.7678 - val_loss: 0.4629 - val_accuracy: 0.7724\n",
            "Epoch 43/50\n",
            "16/16 [==============================] - 0s 5ms/step - loss: 0.4753 - accuracy: 0.7678 - val_loss: 0.4621 - val_accuracy: 0.7724\n",
            "Epoch 44/50\n",
            "16/16 [==============================] - 0s 4ms/step - loss: 0.4743 - accuracy: 0.7719 - val_loss: 0.4614 - val_accuracy: 0.7724\n",
            "Epoch 45/50\n",
            "16/16 [==============================] - 0s 5ms/step - loss: 0.4735 - accuracy: 0.7719 - val_loss: 0.4605 - val_accuracy: 0.7724\n",
            "Epoch 46/50\n",
            "16/16 [==============================] - 0s 4ms/step - loss: 0.4726 - accuracy: 0.7699 - val_loss: 0.4606 - val_accuracy: 0.7724\n",
            "Epoch 47/50\n",
            "16/16 [==============================] - 0s 4ms/step - loss: 0.4719 - accuracy: 0.7719 - val_loss: 0.4601 - val_accuracy: 0.7724\n",
            "Epoch 48/50\n",
            "16/16 [==============================] - 0s 5ms/step - loss: 0.4711 - accuracy: 0.7699 - val_loss: 0.4595 - val_accuracy: 0.7724\n",
            "Epoch 49/50\n",
            "16/16 [==============================] - 0s 4ms/step - loss: 0.4702 - accuracy: 0.7719 - val_loss: 0.4590 - val_accuracy: 0.7724\n",
            "Epoch 50/50\n",
            "16/16 [==============================] - 0s 5ms/step - loss: 0.4694 - accuracy: 0.7719 - val_loss: 0.4587 - val_accuracy: 0.7724\n"
          ]
        },
        {
          "output_type": "execute_result",
          "data": {
            "text/plain": [
              "<keras.src.callbacks.History at 0x797959149ae0>"
            ]
          },
          "metadata": {},
          "execution_count": 137
        }
      ]
    },
    {
      "cell_type": "markdown",
      "source": [
        "#**2. Number of Neurons**"
      ],
      "metadata": {
        "id": "NE6o7dffThF0"
      }
    },
    {
      "cell_type": "code",
      "source": [
        "def build_model(hp):\n",
        "  model = Sequential()\n",
        "  units = hp.Int(\"units\",min_value=8,max_value=512,step=8)\n",
        "  model.add(Dense(units=units,activation=\"relu\",input_dim=X_train.shape[1]))\n",
        "  model.add(Dense(1,activation=\"sigmoid\"))\n",
        "\n",
        "  model.compile(optimizer='rmsprop',loss=\"binary_crossentropy\",metrics=[\"accuracy\"])\n",
        "\n",
        "  return model\n",
        "\n",
        "tuner=kt.RandomSearch(build_model,objective=\"val_accuracy\",max_trials=5,\n",
        "                      directory=\"mydir\",project_name=\"my_project\")\n"
      ],
      "metadata": {
        "id": "WOS-TUIiTc_d"
      },
      "execution_count": 138,
      "outputs": []
    },
    {
      "cell_type": "code",
      "source": [
        "tuner.search(X_train,y_train,epochs=5,validation_split=0.2,verbose=1)"
      ],
      "metadata": {
        "id": "4fTWcbzPTc78",
        "colab": {
          "base_uri": "https://localhost:8080/"
        },
        "outputId": "50167eaf-b8b5-432c-dafd-8cef474cf4c8"
      },
      "execution_count": 139,
      "outputs": [
        {
          "output_type": "stream",
          "name": "stdout",
          "text": [
            "Trial 5 Complete [00h 00m 02s]\n",
            "val_accuracy: 0.6991869807243347\n",
            "\n",
            "Best val_accuracy So Far: 0.7642276287078857\n",
            "Total elapsed time: 00h 00m 12s\n"
          ]
        }
      ]
    },
    {
      "cell_type": "code",
      "source": [
        "tuner.get_best_hyperparameters()[0].values"
      ],
      "metadata": {
        "colab": {
          "base_uri": "https://localhost:8080/"
        },
        "id": "itkiq8DfUsnc",
        "outputId": "d0259762-9dcf-4fa3-8cea-398fa73fe759"
      },
      "execution_count": 140,
      "outputs": [
        {
          "output_type": "execute_result",
          "data": {
            "text/plain": [
              "{'units': 208}"
            ]
          },
          "metadata": {},
          "execution_count": 140
        }
      ]
    },
    {
      "cell_type": "code",
      "source": [
        "model = tuner.get_best_models(num_models=1)[0]"
      ],
      "metadata": {
        "id": "gWkmrFvDUslI"
      },
      "execution_count": 141,
      "outputs": []
    },
    {
      "cell_type": "code",
      "source": [
        "model.fit(X_train,y_train,epochs=40,validation_split=0.2,verbose=1,batch_size=32,initial_epoch=6)"
      ],
      "metadata": {
        "colab": {
          "base_uri": "https://localhost:8080/"
        },
        "id": "r8GMVyBhUsiv",
        "outputId": "1832fd21-35a8-48b8-a04d-4640618b4f09"
      },
      "execution_count": 142,
      "outputs": [
        {
          "output_type": "stream",
          "name": "stdout",
          "text": [
            "Epoch 7/40\n",
            "16/16 [==============================] - 1s 16ms/step - loss: 0.4550 - accuracy: 0.7821 - val_loss: 0.4790 - val_accuracy: 0.7561\n",
            "Epoch 8/40\n",
            "16/16 [==============================] - 0s 5ms/step - loss: 0.4482 - accuracy: 0.7862 - val_loss: 0.4741 - val_accuracy: 0.7642\n",
            "Epoch 9/40\n",
            "16/16 [==============================] - 0s 4ms/step - loss: 0.4441 - accuracy: 0.7780 - val_loss: 0.4724 - val_accuracy: 0.7480\n",
            "Epoch 10/40\n",
            "16/16 [==============================] - 0s 5ms/step - loss: 0.4397 - accuracy: 0.7862 - val_loss: 0.4704 - val_accuracy: 0.7642\n",
            "Epoch 11/40\n",
            "16/16 [==============================] - 0s 5ms/step - loss: 0.4361 - accuracy: 0.7841 - val_loss: 0.4704 - val_accuracy: 0.7561\n",
            "Epoch 12/40\n",
            "16/16 [==============================] - 0s 5ms/step - loss: 0.4336 - accuracy: 0.7923 - val_loss: 0.4686 - val_accuracy: 0.7561\n",
            "Epoch 13/40\n",
            "16/16 [==============================] - 0s 4ms/step - loss: 0.4303 - accuracy: 0.7882 - val_loss: 0.4692 - val_accuracy: 0.7642\n",
            "Epoch 14/40\n",
            "16/16 [==============================] - 0s 4ms/step - loss: 0.4274 - accuracy: 0.7963 - val_loss: 0.4715 - val_accuracy: 0.7642\n",
            "Epoch 15/40\n",
            "16/16 [==============================] - 0s 5ms/step - loss: 0.4259 - accuracy: 0.7923 - val_loss: 0.4718 - val_accuracy: 0.7561\n",
            "Epoch 16/40\n",
            "16/16 [==============================] - 0s 6ms/step - loss: 0.4231 - accuracy: 0.7984 - val_loss: 0.4678 - val_accuracy: 0.7480\n",
            "Epoch 17/40\n",
            "16/16 [==============================] - 0s 5ms/step - loss: 0.4213 - accuracy: 0.8004 - val_loss: 0.4677 - val_accuracy: 0.7561\n",
            "Epoch 18/40\n",
            "16/16 [==============================] - 0s 5ms/step - loss: 0.4201 - accuracy: 0.8045 - val_loss: 0.4662 - val_accuracy: 0.7480\n",
            "Epoch 19/40\n",
            "16/16 [==============================] - 0s 5ms/step - loss: 0.4184 - accuracy: 0.7984 - val_loss: 0.4698 - val_accuracy: 0.7398\n",
            "Epoch 20/40\n",
            "16/16 [==============================] - 0s 5ms/step - loss: 0.4166 - accuracy: 0.8065 - val_loss: 0.4674 - val_accuracy: 0.7480\n",
            "Epoch 21/40\n",
            "16/16 [==============================] - 0s 5ms/step - loss: 0.4160 - accuracy: 0.8024 - val_loss: 0.4684 - val_accuracy: 0.7480\n",
            "Epoch 22/40\n",
            "16/16 [==============================] - 0s 5ms/step - loss: 0.4139 - accuracy: 0.8065 - val_loss: 0.4700 - val_accuracy: 0.7480\n",
            "Epoch 23/40\n",
            "16/16 [==============================] - 0s 4ms/step - loss: 0.4126 - accuracy: 0.8106 - val_loss: 0.4698 - val_accuracy: 0.7480\n",
            "Epoch 24/40\n",
            "16/16 [==============================] - 0s 5ms/step - loss: 0.4115 - accuracy: 0.8065 - val_loss: 0.4695 - val_accuracy: 0.7561\n",
            "Epoch 25/40\n",
            "16/16 [==============================] - 0s 4ms/step - loss: 0.4103 - accuracy: 0.8045 - val_loss: 0.4683 - val_accuracy: 0.7480\n",
            "Epoch 26/40\n",
            "16/16 [==============================] - 0s 5ms/step - loss: 0.4084 - accuracy: 0.8187 - val_loss: 0.4661 - val_accuracy: 0.7480\n",
            "Epoch 27/40\n",
            "16/16 [==============================] - 0s 7ms/step - loss: 0.4069 - accuracy: 0.8167 - val_loss: 0.4679 - val_accuracy: 0.7480\n",
            "Epoch 28/40\n",
            "16/16 [==============================] - 0s 7ms/step - loss: 0.4077 - accuracy: 0.8106 - val_loss: 0.4677 - val_accuracy: 0.7480\n",
            "Epoch 29/40\n",
            "16/16 [==============================] - 0s 4ms/step - loss: 0.4056 - accuracy: 0.8126 - val_loss: 0.4668 - val_accuracy: 0.7480\n",
            "Epoch 30/40\n",
            "16/16 [==============================] - 0s 8ms/step - loss: 0.4044 - accuracy: 0.8147 - val_loss: 0.4663 - val_accuracy: 0.7561\n",
            "Epoch 31/40\n",
            "16/16 [==============================] - 0s 8ms/step - loss: 0.4038 - accuracy: 0.8187 - val_loss: 0.4656 - val_accuracy: 0.7561\n",
            "Epoch 32/40\n",
            "16/16 [==============================] - 0s 6ms/step - loss: 0.4033 - accuracy: 0.8187 - val_loss: 0.4661 - val_accuracy: 0.7642\n",
            "Epoch 33/40\n",
            "16/16 [==============================] - 0s 6ms/step - loss: 0.4014 - accuracy: 0.8208 - val_loss: 0.4666 - val_accuracy: 0.7561\n",
            "Epoch 34/40\n",
            "16/16 [==============================] - 0s 8ms/step - loss: 0.4010 - accuracy: 0.8167 - val_loss: 0.4682 - val_accuracy: 0.7561\n",
            "Epoch 35/40\n",
            "16/16 [==============================] - 0s 8ms/step - loss: 0.3995 - accuracy: 0.8228 - val_loss: 0.4692 - val_accuracy: 0.7642\n",
            "Epoch 36/40\n",
            "16/16 [==============================] - 0s 10ms/step - loss: 0.3978 - accuracy: 0.8086 - val_loss: 0.4717 - val_accuracy: 0.7480\n",
            "Epoch 37/40\n",
            "16/16 [==============================] - 0s 7ms/step - loss: 0.3995 - accuracy: 0.8208 - val_loss: 0.4704 - val_accuracy: 0.7642\n",
            "Epoch 38/40\n",
            "16/16 [==============================] - 0s 8ms/step - loss: 0.3968 - accuracy: 0.8187 - val_loss: 0.4680 - val_accuracy: 0.7642\n",
            "Epoch 39/40\n",
            "16/16 [==============================] - 0s 7ms/step - loss: 0.3954 - accuracy: 0.8187 - val_loss: 0.4687 - val_accuracy: 0.7561\n",
            "Epoch 40/40\n",
            "16/16 [==============================] - 0s 6ms/step - loss: 0.3955 - accuracy: 0.8228 - val_loss: 0.4678 - val_accuracy: 0.7561\n"
          ]
        },
        {
          "output_type": "execute_result",
          "data": {
            "text/plain": [
              "<keras.src.callbacks.History at 0x797953df34c0>"
            ]
          },
          "metadata": {},
          "execution_count": 142
        }
      ]
    },
    {
      "cell_type": "markdown",
      "source": [
        "#**3. No of hidden layers**"
      ],
      "metadata": {
        "id": "KKa6DRbAn1Tq"
      }
    },
    {
      "cell_type": "code",
      "source": [
        "def build_model(hp):\n",
        "\n",
        "  model = Sequential()\n",
        "\n",
        "  model.add(Dense(72,activation=\"relu\",input_dim=X_train.shape[1]))\n",
        "\n",
        "  for i in range(hp.Int(\"num_layers\",min_value=1,max_value=10)):\n",
        "\n",
        "    model.add(Dense(72,activation=\"relu\"))\n",
        "\n",
        "  model.add(Dense(1,activation=\"sigmoid\"))\n",
        "\n",
        "  model.compile(optimizer=\"rmsprop\",loss=\"binary_crossentropy\",metrics=[\"accuracy\"])\n",
        "\n",
        "  return model\n"
      ],
      "metadata": {
        "id": "fBwYP36xUsgD"
      },
      "execution_count": 143,
      "outputs": []
    },
    {
      "cell_type": "code",
      "source": [
        "tuner = kt.RandomSearch(build_model,objective=\"val_accuracy\",max_trials=5,\n",
        "                        directory=\"mydir\",project_name=\"num_layer\")"
      ],
      "metadata": {
        "id": "CpzQQu2UUsca"
      },
      "execution_count": 144,
      "outputs": []
    },
    {
      "cell_type": "code",
      "source": [
        "tuner.search(X_train,y_train,epochs=5,validation_split=0.2,verbose=1)"
      ],
      "metadata": {
        "id": "B6b2JgTyUsZn",
        "colab": {
          "base_uri": "https://localhost:8080/"
        },
        "outputId": "8e3b3740-66eb-45dc-a712-315e766917e9"
      },
      "execution_count": 145,
      "outputs": [
        {
          "output_type": "stream",
          "name": "stdout",
          "text": [
            "Trial 5 Complete [00h 00m 03s]\n",
            "val_accuracy: 0.7560975551605225\n",
            "\n",
            "Best val_accuracy So Far: 0.7642276287078857\n",
            "Total elapsed time: 00h 00m 15s\n"
          ]
        }
      ]
    },
    {
      "cell_type": "code",
      "source": [
        "tuner.get_best_hyperparameters()[0].values"
      ],
      "metadata": {
        "id": "bGahdIIMUsXP",
        "colab": {
          "base_uri": "https://localhost:8080/"
        },
        "outputId": "89ac9e3b-67cb-45e4-89e5-b0ea0a981b54"
      },
      "execution_count": 146,
      "outputs": [
        {
          "output_type": "execute_result",
          "data": {
            "text/plain": [
              "{'num_layers': 4}"
            ]
          },
          "metadata": {},
          "execution_count": 146
        }
      ]
    },
    {
      "cell_type": "code",
      "source": [
        "model = tuner.get_best_models(num_models=1)[0]"
      ],
      "metadata": {
        "id": "9ZOzyGR1UsUx"
      },
      "execution_count": 147,
      "outputs": []
    },
    {
      "cell_type": "code",
      "source": [
        "model.fit(X_train,y_train,epochs=40,validation_split=0.2,verbose=1,batch_size=32,initial_epoch=6)"
      ],
      "metadata": {
        "id": "0u1bbbRWUsSh",
        "colab": {
          "base_uri": "https://localhost:8080/"
        },
        "outputId": "1fb93156-65d8-469b-bd8f-13b880eb8235"
      },
      "execution_count": 148,
      "outputs": [
        {
          "output_type": "stream",
          "name": "stdout",
          "text": [
            "Epoch 7/40\n",
            "16/16 [==============================] - 1s 17ms/step - loss: 0.4647 - accuracy: 0.7637 - val_loss: 0.4830 - val_accuracy: 0.7642\n",
            "Epoch 8/40\n",
            "16/16 [==============================] - 0s 6ms/step - loss: 0.4404 - accuracy: 0.7923 - val_loss: 0.4808 - val_accuracy: 0.7724\n",
            "Epoch 9/40\n",
            "16/16 [==============================] - 0s 5ms/step - loss: 0.4372 - accuracy: 0.7923 - val_loss: 0.4820 - val_accuracy: 0.7642\n",
            "Epoch 10/40\n",
            "16/16 [==============================] - 0s 6ms/step - loss: 0.4155 - accuracy: 0.7882 - val_loss: 0.4992 - val_accuracy: 0.7561\n",
            "Epoch 11/40\n",
            "16/16 [==============================] - 0s 5ms/step - loss: 0.4121 - accuracy: 0.8126 - val_loss: 0.5378 - val_accuracy: 0.7398\n",
            "Epoch 12/40\n",
            "16/16 [==============================] - 0s 5ms/step - loss: 0.3950 - accuracy: 0.8269 - val_loss: 0.5217 - val_accuracy: 0.7317\n",
            "Epoch 13/40\n",
            "16/16 [==============================] - 0s 5ms/step - loss: 0.3855 - accuracy: 0.8167 - val_loss: 0.4840 - val_accuracy: 0.7561\n",
            "Epoch 14/40\n",
            "16/16 [==============================] - 0s 5ms/step - loss: 0.3872 - accuracy: 0.8208 - val_loss: 0.5794 - val_accuracy: 0.7561\n",
            "Epoch 15/40\n",
            "16/16 [==============================] - 0s 6ms/step - loss: 0.3726 - accuracy: 0.8391 - val_loss: 0.5014 - val_accuracy: 0.7642\n",
            "Epoch 16/40\n",
            "16/16 [==============================] - 0s 8ms/step - loss: 0.3735 - accuracy: 0.8350 - val_loss: 0.4876 - val_accuracy: 0.7480\n",
            "Epoch 17/40\n",
            "16/16 [==============================] - 0s 6ms/step - loss: 0.3539 - accuracy: 0.8432 - val_loss: 0.4975 - val_accuracy: 0.7398\n",
            "Epoch 18/40\n",
            "16/16 [==============================] - 0s 5ms/step - loss: 0.3471 - accuracy: 0.8473 - val_loss: 0.4904 - val_accuracy: 0.7642\n",
            "Epoch 19/40\n",
            "16/16 [==============================] - 0s 5ms/step - loss: 0.3416 - accuracy: 0.8554 - val_loss: 0.5151 - val_accuracy: 0.7480\n",
            "Epoch 20/40\n",
            "16/16 [==============================] - 0s 6ms/step - loss: 0.3230 - accuracy: 0.8473 - val_loss: 0.6336 - val_accuracy: 0.7480\n",
            "Epoch 21/40\n",
            "16/16 [==============================] - 0s 5ms/step - loss: 0.3201 - accuracy: 0.8595 - val_loss: 0.5085 - val_accuracy: 0.7561\n",
            "Epoch 22/40\n",
            "16/16 [==============================] - 0s 6ms/step - loss: 0.3095 - accuracy: 0.8676 - val_loss: 0.5497 - val_accuracy: 0.7561\n",
            "Epoch 23/40\n",
            "16/16 [==============================] - 0s 5ms/step - loss: 0.2993 - accuracy: 0.8676 - val_loss: 0.5292 - val_accuracy: 0.7480\n",
            "Epoch 24/40\n",
            "16/16 [==============================] - 0s 4ms/step - loss: 0.2842 - accuracy: 0.8737 - val_loss: 0.6023 - val_accuracy: 0.7967\n",
            "Epoch 25/40\n",
            "16/16 [==============================] - 0s 5ms/step - loss: 0.2964 - accuracy: 0.8595 - val_loss: 0.6250 - val_accuracy: 0.7561\n",
            "Epoch 26/40\n",
            "16/16 [==============================] - 0s 6ms/step - loss: 0.2792 - accuracy: 0.8778 - val_loss: 0.6059 - val_accuracy: 0.7642\n",
            "Epoch 27/40\n",
            "16/16 [==============================] - 0s 7ms/step - loss: 0.2506 - accuracy: 0.8961 - val_loss: 0.5914 - val_accuracy: 0.7480\n",
            "Epoch 28/40\n",
            "16/16 [==============================] - 0s 6ms/step - loss: 0.2369 - accuracy: 0.9002 - val_loss: 0.6243 - val_accuracy: 0.7480\n",
            "Epoch 29/40\n",
            "16/16 [==============================] - 0s 5ms/step - loss: 0.2396 - accuracy: 0.9104 - val_loss: 0.6570 - val_accuracy: 0.7317\n",
            "Epoch 30/40\n",
            "16/16 [==============================] - 0s 5ms/step - loss: 0.2345 - accuracy: 0.9022 - val_loss: 0.6191 - val_accuracy: 0.7561\n",
            "Epoch 31/40\n",
            "16/16 [==============================] - 0s 6ms/step - loss: 0.2258 - accuracy: 0.9022 - val_loss: 0.7270 - val_accuracy: 0.7398\n",
            "Epoch 32/40\n",
            "16/16 [==============================] - 0s 5ms/step - loss: 0.2140 - accuracy: 0.9084 - val_loss: 0.7060 - val_accuracy: 0.7398\n",
            "Epoch 33/40\n",
            "16/16 [==============================] - 0s 5ms/step - loss: 0.2001 - accuracy: 0.9226 - val_loss: 0.6876 - val_accuracy: 0.7398\n",
            "Epoch 34/40\n",
            "16/16 [==============================] - 0s 5ms/step - loss: 0.2059 - accuracy: 0.9124 - val_loss: 0.7848 - val_accuracy: 0.6992\n",
            "Epoch 35/40\n",
            "16/16 [==============================] - 0s 5ms/step - loss: 0.2028 - accuracy: 0.9104 - val_loss: 0.7325 - val_accuracy: 0.7480\n",
            "Epoch 36/40\n",
            "16/16 [==============================] - 0s 5ms/step - loss: 0.1731 - accuracy: 0.9348 - val_loss: 0.8884 - val_accuracy: 0.7561\n",
            "Epoch 37/40\n",
            "16/16 [==============================] - 0s 8ms/step - loss: 0.1980 - accuracy: 0.9084 - val_loss: 0.8869 - val_accuracy: 0.7317\n",
            "Epoch 38/40\n",
            "16/16 [==============================] - 0s 7ms/step - loss: 0.1552 - accuracy: 0.9430 - val_loss: 0.8215 - val_accuracy: 0.7236\n",
            "Epoch 39/40\n",
            "16/16 [==============================] - 0s 6ms/step - loss: 0.1475 - accuracy: 0.9328 - val_loss: 0.8741 - val_accuracy: 0.7398\n",
            "Epoch 40/40\n",
            "16/16 [==============================] - 0s 5ms/step - loss: 0.1653 - accuracy: 0.9369 - val_loss: 0.9943 - val_accuracy: 0.7073\n"
          ]
        },
        {
          "output_type": "execute_result",
          "data": {
            "text/plain": [
              "<keras.src.callbacks.History at 0x797952f38460>"
            ]
          },
          "metadata": {},
          "execution_count": 148
        }
      ]
    },
    {
      "cell_type": "markdown",
      "source": [
        "**Combine All**"
      ],
      "metadata": {
        "id": "r5pavs90ywjm"
      }
    },
    {
      "cell_type": "code",
      "source": [
        "def build_model(hp):\n",
        "\n",
        "  model = Sequential()\n",
        "\n",
        "  counter = 0\n",
        "\n",
        "  for i in range(hp.Int(\"num_layers\",min_value=1,max_value=10)):\n",
        "\n",
        "    if counter == 0:\n",
        "\n",
        "      model.add(\n",
        "          Dense(\n",
        "          hp.Int(\"units\"+str(i),min_value=8,max_value=128,step=8),\n",
        "          activation = hp.Choice(\"activation\"+str(i),values=[\"relu\",\"tanh\",\"sigmoid\"]),\n",
        "          input_dim = X_train.shape[1]\n",
        "          ))\n",
        "      model.add(Dropout(hp.Float(\"dropout\"+str(i),min_value=0.1,max_value=0.7,step=0.1)))\n",
        "    else:\n",
        "\n",
        "      model.add(\n",
        "          Dense(\n",
        "          hp.Int(\"units\"+str(i),min_value=8,max_value=128,step=8),\n",
        "          activation = hp.Choice(\"activation\"+str(i),values=[\"relu\",\"tanh\",\"sigmoid\"])\n",
        "          )\n",
        "      )\n",
        "      model.add(Dropout(hp.Float(\"dropout\"+str(i),min_value=0.1,max_value=0.7,step=0.1)))\n",
        "\n",
        "    counter+=1\n",
        "\n",
        "  model.add(Dense(1,activation=\"sigmoid\"))\n",
        "\n",
        "  model.compile(optimizer=hp.Choice(\"optimizer\",values=[\"adam\",\"sgd\",\"rmsprop\",\"adadelta\"]),\n",
        "                  loss=\"binary_crossentropy\",metrics=[\"accuracy\"])\n",
        "\n",
        "  return model"
      ],
      "metadata": {
        "id": "dAj4ffp7UsO2"
      },
      "execution_count": 149,
      "outputs": []
    },
    {
      "cell_type": "code",
      "source": [
        "tuner = kt.RandomSearch(build_model,objective=\"val_accuracy\",max_trials=5,\n",
        "                        directory=\"mydir\",project_name=\"final2\")"
      ],
      "metadata": {
        "colab": {
          "base_uri": "https://localhost:8080/"
        },
        "id": "mVdK9v4gPtoC",
        "outputId": "bb4cb5f7-bb73-4cbc-e4cc-21305f0953f0"
      },
      "execution_count": 150,
      "outputs": [
        {
          "output_type": "stream",
          "name": "stdout",
          "text": [
            "Reloading Tuner from mydir/final2/tuner0.json\n"
          ]
        }
      ]
    },
    {
      "cell_type": "code",
      "source": [
        "tuner.search(X_train,y_train,epochs=5,validation_data=(X_test,y_test),verbose=1)"
      ],
      "metadata": {
        "id": "jHz-v6pmPtlW"
      },
      "execution_count": 151,
      "outputs": []
    },
    {
      "cell_type": "code",
      "source": [
        "tuner.get_best_hyperparameters()[0].values"
      ],
      "metadata": {
        "colab": {
          "base_uri": "https://localhost:8080/"
        },
        "id": "LP7sCRtwPtiS",
        "outputId": "df1f98bc-9007-46e7-9707-b22a4f2f16d0"
      },
      "execution_count": 152,
      "outputs": [
        {
          "output_type": "execute_result",
          "data": {
            "text/plain": [
              "{'num_layers': 4,\n",
              " 'units0': 104,\n",
              " 'activation0': 'tanh',\n",
              " 'dropout0': 0.2,\n",
              " 'optimizer': 'rmsprop',\n",
              " 'units1': 120,\n",
              " 'activation1': 'relu',\n",
              " 'dropout1': 0.30000000000000004,\n",
              " 'units2': 32,\n",
              " 'activation2': 'tanh',\n",
              " 'dropout2': 0.4,\n",
              " 'units3': 56,\n",
              " 'activation3': 'tanh',\n",
              " 'dropout3': 0.6,\n",
              " 'units4': 120,\n",
              " 'activation4': 'relu',\n",
              " 'dropout4': 0.2,\n",
              " 'units5': 24,\n",
              " 'activation5': 'relu',\n",
              " 'dropout5': 0.1,\n",
              " 'units6': 72,\n",
              " 'activation6': 'sigmoid',\n",
              " 'dropout6': 0.6,\n",
              " 'units7': 112,\n",
              " 'activation7': 'sigmoid',\n",
              " 'dropout7': 0.2}"
            ]
          },
          "metadata": {},
          "execution_count": 152
        }
      ]
    },
    {
      "cell_type": "code",
      "source": [
        "model = tuner.get_best_models(num_models=1)[0]"
      ],
      "metadata": {
        "id": "1UOCx2T0UsKY"
      },
      "execution_count": 153,
      "outputs": []
    },
    {
      "cell_type": "code",
      "source": [
        "model.fit(X_train,y_train,epochs=120,initial_epoch=6,validation_split=0.2,verbose=1)"
      ],
      "metadata": {
        "id": "Eu6Gc7wwUsHY",
        "colab": {
          "base_uri": "https://localhost:8080/"
        },
        "outputId": "92d6be8f-0ba8-4a77-d699-33db064514bc"
      },
      "execution_count": 154,
      "outputs": [
        {
          "output_type": "stream",
          "name": "stdout",
          "text": [
            "Epoch 7/120\n",
            "16/16 [==============================] - 1s 25ms/step - loss: 0.5136 - accuracy: 0.7576 - val_loss: 0.4426 - val_accuracy: 0.7724\n",
            "Epoch 8/120\n",
            "16/16 [==============================] - 0s 9ms/step - loss: 0.4776 - accuracy: 0.7882 - val_loss: 0.4586 - val_accuracy: 0.7724\n",
            "Epoch 9/120\n",
            "16/16 [==============================] - 0s 8ms/step - loss: 0.4782 - accuracy: 0.7760 - val_loss: 0.4542 - val_accuracy: 0.7805\n",
            "Epoch 10/120\n",
            "16/16 [==============================] - 0s 8ms/step - loss: 0.4851 - accuracy: 0.7984 - val_loss: 0.4573 - val_accuracy: 0.7642\n",
            "Epoch 11/120\n",
            "16/16 [==============================] - 0s 9ms/step - loss: 0.4948 - accuracy: 0.7719 - val_loss: 0.4628 - val_accuracy: 0.7561\n",
            "Epoch 12/120\n",
            "16/16 [==============================] - 0s 9ms/step - loss: 0.4808 - accuracy: 0.7658 - val_loss: 0.4656 - val_accuracy: 0.7642\n",
            "Epoch 13/120\n",
            "16/16 [==============================] - 0s 9ms/step - loss: 0.4766 - accuracy: 0.7699 - val_loss: 0.4687 - val_accuracy: 0.7561\n",
            "Epoch 14/120\n",
            "16/16 [==============================] - 0s 8ms/step - loss: 0.5052 - accuracy: 0.7678 - val_loss: 0.4668 - val_accuracy: 0.7805\n",
            "Epoch 15/120\n",
            "16/16 [==============================] - 0s 9ms/step - loss: 0.4905 - accuracy: 0.7760 - val_loss: 0.4746 - val_accuracy: 0.7642\n",
            "Epoch 16/120\n",
            "16/16 [==============================] - 0s 8ms/step - loss: 0.4573 - accuracy: 0.7984 - val_loss: 0.4840 - val_accuracy: 0.7561\n",
            "Epoch 17/120\n",
            "16/16 [==============================] - 0s 9ms/step - loss: 0.4537 - accuracy: 0.7923 - val_loss: 0.4786 - val_accuracy: 0.7642\n",
            "Epoch 18/120\n",
            "16/16 [==============================] - 0s 9ms/step - loss: 0.4573 - accuracy: 0.7719 - val_loss: 0.4804 - val_accuracy: 0.7724\n",
            "Epoch 19/120\n",
            "16/16 [==============================] - 0s 8ms/step - loss: 0.4775 - accuracy: 0.7882 - val_loss: 0.4878 - val_accuracy: 0.7642\n",
            "Epoch 20/120\n",
            "16/16 [==============================] - 0s 9ms/step - loss: 0.4629 - accuracy: 0.7658 - val_loss: 0.4892 - val_accuracy: 0.7642\n",
            "Epoch 21/120\n",
            "16/16 [==============================] - 0s 9ms/step - loss: 0.4503 - accuracy: 0.7923 - val_loss: 0.4787 - val_accuracy: 0.7724\n",
            "Epoch 22/120\n",
            "16/16 [==============================] - 0s 9ms/step - loss: 0.4363 - accuracy: 0.7923 - val_loss: 0.4897 - val_accuracy: 0.7642\n",
            "Epoch 23/120\n",
            "16/16 [==============================] - 0s 8ms/step - loss: 0.4560 - accuracy: 0.7821 - val_loss: 0.4965 - val_accuracy: 0.7642\n",
            "Epoch 24/120\n",
            "16/16 [==============================] - 0s 9ms/step - loss: 0.4564 - accuracy: 0.7862 - val_loss: 0.4915 - val_accuracy: 0.7561\n",
            "Epoch 25/120\n",
            "16/16 [==============================] - 0s 10ms/step - loss: 0.4634 - accuracy: 0.7719 - val_loss: 0.4903 - val_accuracy: 0.7642\n",
            "Epoch 26/120\n",
            "16/16 [==============================] - 0s 9ms/step - loss: 0.4355 - accuracy: 0.8004 - val_loss: 0.4945 - val_accuracy: 0.7724\n",
            "Epoch 27/120\n",
            "16/16 [==============================] - 0s 8ms/step - loss: 0.4330 - accuracy: 0.7902 - val_loss: 0.5020 - val_accuracy: 0.7642\n",
            "Epoch 28/120\n",
            "16/16 [==============================] - 0s 8ms/step - loss: 0.4832 - accuracy: 0.7760 - val_loss: 0.4982 - val_accuracy: 0.7724\n",
            "Epoch 29/120\n",
            "16/16 [==============================] - 0s 7ms/step - loss: 0.4434 - accuracy: 0.7821 - val_loss: 0.4894 - val_accuracy: 0.7561\n",
            "Epoch 30/120\n",
            "16/16 [==============================] - 0s 5ms/step - loss: 0.4434 - accuracy: 0.8004 - val_loss: 0.4937 - val_accuracy: 0.7398\n",
            "Epoch 31/120\n",
            "16/16 [==============================] - 0s 7ms/step - loss: 0.4518 - accuracy: 0.7821 - val_loss: 0.5002 - val_accuracy: 0.7480\n",
            "Epoch 32/120\n",
            "16/16 [==============================] - 0s 6ms/step - loss: 0.4636 - accuracy: 0.7902 - val_loss: 0.5125 - val_accuracy: 0.7642\n",
            "Epoch 33/120\n",
            "16/16 [==============================] - 0s 5ms/step - loss: 0.4592 - accuracy: 0.8004 - val_loss: 0.5141 - val_accuracy: 0.7480\n",
            "Epoch 34/120\n",
            "16/16 [==============================] - 0s 6ms/step - loss: 0.4405 - accuracy: 0.8024 - val_loss: 0.5060 - val_accuracy: 0.7642\n",
            "Epoch 35/120\n",
            "16/16 [==============================] - 0s 6ms/step - loss: 0.4682 - accuracy: 0.7800 - val_loss: 0.5017 - val_accuracy: 0.7480\n",
            "Epoch 36/120\n",
            "16/16 [==============================] - 0s 5ms/step - loss: 0.4506 - accuracy: 0.8024 - val_loss: 0.5058 - val_accuracy: 0.7561\n",
            "Epoch 37/120\n",
            "16/16 [==============================] - 0s 5ms/step - loss: 0.4526 - accuracy: 0.8004 - val_loss: 0.4931 - val_accuracy: 0.7480\n",
            "Epoch 38/120\n",
            "16/16 [==============================] - 0s 6ms/step - loss: 0.4391 - accuracy: 0.8086 - val_loss: 0.4870 - val_accuracy: 0.7154\n",
            "Epoch 39/120\n",
            "16/16 [==============================] - 0s 6ms/step - loss: 0.4322 - accuracy: 0.7963 - val_loss: 0.5071 - val_accuracy: 0.7561\n",
            "Epoch 40/120\n",
            "16/16 [==============================] - 0s 6ms/step - loss: 0.4503 - accuracy: 0.7984 - val_loss: 0.5083 - val_accuracy: 0.7967\n",
            "Epoch 41/120\n",
            "16/16 [==============================] - 0s 6ms/step - loss: 0.4519 - accuracy: 0.7862 - val_loss: 0.5034 - val_accuracy: 0.7805\n",
            "Epoch 42/120\n",
            "16/16 [==============================] - 0s 7ms/step - loss: 0.4223 - accuracy: 0.8086 - val_loss: 0.5072 - val_accuracy: 0.7805\n",
            "Epoch 43/120\n",
            "16/16 [==============================] - 0s 6ms/step - loss: 0.4128 - accuracy: 0.8106 - val_loss: 0.4960 - val_accuracy: 0.7561\n",
            "Epoch 44/120\n",
            "16/16 [==============================] - 0s 7ms/step - loss: 0.4595 - accuracy: 0.7923 - val_loss: 0.4995 - val_accuracy: 0.7480\n",
            "Epoch 45/120\n",
            "16/16 [==============================] - 0s 6ms/step - loss: 0.4257 - accuracy: 0.8167 - val_loss: 0.5126 - val_accuracy: 0.7805\n",
            "Epoch 46/120\n",
            "16/16 [==============================] - 0s 6ms/step - loss: 0.4306 - accuracy: 0.8024 - val_loss: 0.5092 - val_accuracy: 0.7236\n",
            "Epoch 47/120\n",
            "16/16 [==============================] - 0s 6ms/step - loss: 0.4321 - accuracy: 0.8065 - val_loss: 0.5122 - val_accuracy: 0.7480\n",
            "Epoch 48/120\n",
            "16/16 [==============================] - 0s 6ms/step - loss: 0.4204 - accuracy: 0.8147 - val_loss: 0.5198 - val_accuracy: 0.7642\n",
            "Epoch 49/120\n",
            "16/16 [==============================] - 0s 5ms/step - loss: 0.4464 - accuracy: 0.7902 - val_loss: 0.5237 - val_accuracy: 0.7724\n",
            "Epoch 50/120\n",
            "16/16 [==============================] - 0s 6ms/step - loss: 0.4279 - accuracy: 0.8045 - val_loss: 0.5180 - val_accuracy: 0.7642\n",
            "Epoch 51/120\n",
            "16/16 [==============================] - 0s 7ms/step - loss: 0.4268 - accuracy: 0.8228 - val_loss: 0.5136 - val_accuracy: 0.7724\n",
            "Epoch 52/120\n",
            "16/16 [==============================] - 0s 5ms/step - loss: 0.4347 - accuracy: 0.8045 - val_loss: 0.5162 - val_accuracy: 0.7642\n",
            "Epoch 53/120\n",
            "16/16 [==============================] - 0s 6ms/step - loss: 0.4395 - accuracy: 0.8126 - val_loss: 0.5158 - val_accuracy: 0.7561\n",
            "Epoch 54/120\n",
            "16/16 [==============================] - 0s 6ms/step - loss: 0.4178 - accuracy: 0.8086 - val_loss: 0.5231 - val_accuracy: 0.7805\n",
            "Epoch 55/120\n",
            "16/16 [==============================] - 0s 5ms/step - loss: 0.4256 - accuracy: 0.8126 - val_loss: 0.5261 - val_accuracy: 0.7724\n",
            "Epoch 56/120\n",
            "16/16 [==============================] - 0s 6ms/step - loss: 0.4249 - accuracy: 0.8024 - val_loss: 0.5199 - val_accuracy: 0.7480\n",
            "Epoch 57/120\n",
            "16/16 [==============================] - 0s 6ms/step - loss: 0.4222 - accuracy: 0.7943 - val_loss: 0.5176 - val_accuracy: 0.7480\n",
            "Epoch 58/120\n",
            "16/16 [==============================] - 0s 5ms/step - loss: 0.4261 - accuracy: 0.8208 - val_loss: 0.5286 - val_accuracy: 0.7480\n",
            "Epoch 59/120\n",
            "16/16 [==============================] - 0s 6ms/step - loss: 0.4082 - accuracy: 0.8147 - val_loss: 0.5281 - val_accuracy: 0.7480\n",
            "Epoch 60/120\n",
            "16/16 [==============================] - 0s 5ms/step - loss: 0.4102 - accuracy: 0.8208 - val_loss: 0.5378 - val_accuracy: 0.7317\n",
            "Epoch 61/120\n",
            "16/16 [==============================] - 0s 7ms/step - loss: 0.4393 - accuracy: 0.8106 - val_loss: 0.5336 - val_accuracy: 0.7317\n",
            "Epoch 62/120\n",
            "16/16 [==============================] - 0s 7ms/step - loss: 0.4217 - accuracy: 0.8106 - val_loss: 0.5257 - val_accuracy: 0.7317\n",
            "Epoch 63/120\n",
            "16/16 [==============================] - 0s 6ms/step - loss: 0.4275 - accuracy: 0.8106 - val_loss: 0.5317 - val_accuracy: 0.7480\n",
            "Epoch 64/120\n",
            "16/16 [==============================] - 0s 5ms/step - loss: 0.4175 - accuracy: 0.8126 - val_loss: 0.5204 - val_accuracy: 0.7561\n",
            "Epoch 65/120\n",
            "16/16 [==============================] - 0s 6ms/step - loss: 0.4107 - accuracy: 0.8248 - val_loss: 0.5228 - val_accuracy: 0.7724\n",
            "Epoch 66/120\n",
            "16/16 [==============================] - 0s 5ms/step - loss: 0.4160 - accuracy: 0.8208 - val_loss: 0.5251 - val_accuracy: 0.7561\n",
            "Epoch 67/120\n",
            "16/16 [==============================] - 0s 5ms/step - loss: 0.4158 - accuracy: 0.8147 - val_loss: 0.5174 - val_accuracy: 0.7561\n",
            "Epoch 68/120\n",
            "16/16 [==============================] - 0s 6ms/step - loss: 0.4310 - accuracy: 0.7963 - val_loss: 0.5224 - val_accuracy: 0.7480\n",
            "Epoch 69/120\n",
            "16/16 [==============================] - 0s 5ms/step - loss: 0.4121 - accuracy: 0.8045 - val_loss: 0.5068 - val_accuracy: 0.7724\n",
            "Epoch 70/120\n",
            "16/16 [==============================] - 0s 6ms/step - loss: 0.4214 - accuracy: 0.7984 - val_loss: 0.5162 - val_accuracy: 0.7724\n",
            "Epoch 71/120\n",
            "16/16 [==============================] - 0s 7ms/step - loss: 0.4155 - accuracy: 0.8126 - val_loss: 0.5228 - val_accuracy: 0.7480\n",
            "Epoch 72/120\n",
            "16/16 [==============================] - 0s 6ms/step - loss: 0.4085 - accuracy: 0.8167 - val_loss: 0.5235 - val_accuracy: 0.7561\n",
            "Epoch 73/120\n",
            "16/16 [==============================] - 0s 5ms/step - loss: 0.4148 - accuracy: 0.8167 - val_loss: 0.5167 - val_accuracy: 0.7561\n",
            "Epoch 74/120\n",
            "16/16 [==============================] - 0s 5ms/step - loss: 0.4047 - accuracy: 0.8289 - val_loss: 0.5234 - val_accuracy: 0.7480\n",
            "Epoch 75/120\n",
            "16/16 [==============================] - 0s 6ms/step - loss: 0.4293 - accuracy: 0.8147 - val_loss: 0.5261 - val_accuracy: 0.7480\n",
            "Epoch 76/120\n",
            "16/16 [==============================] - 0s 5ms/step - loss: 0.4007 - accuracy: 0.8248 - val_loss: 0.5341 - val_accuracy: 0.7480\n",
            "Epoch 77/120\n",
            "16/16 [==============================] - 0s 6ms/step - loss: 0.4011 - accuracy: 0.8187 - val_loss: 0.5382 - val_accuracy: 0.7480\n",
            "Epoch 78/120\n",
            "16/16 [==============================] - 0s 5ms/step - loss: 0.4231 - accuracy: 0.8269 - val_loss: 0.5326 - val_accuracy: 0.7317\n",
            "Epoch 79/120\n",
            "16/16 [==============================] - 0s 6ms/step - loss: 0.3951 - accuracy: 0.8289 - val_loss: 0.5392 - val_accuracy: 0.7317\n",
            "Epoch 80/120\n",
            "16/16 [==============================] - 0s 5ms/step - loss: 0.4007 - accuracy: 0.8330 - val_loss: 0.5480 - val_accuracy: 0.7480\n",
            "Epoch 81/120\n",
            "16/16 [==============================] - 0s 7ms/step - loss: 0.3969 - accuracy: 0.8187 - val_loss: 0.5435 - val_accuracy: 0.7561\n",
            "Epoch 82/120\n",
            "16/16 [==============================] - 0s 7ms/step - loss: 0.4194 - accuracy: 0.8187 - val_loss: 0.5366 - val_accuracy: 0.7480\n",
            "Epoch 83/120\n",
            "16/16 [==============================] - 0s 5ms/step - loss: 0.4198 - accuracy: 0.8269 - val_loss: 0.5499 - val_accuracy: 0.7398\n",
            "Epoch 84/120\n",
            "16/16 [==============================] - 0s 5ms/step - loss: 0.4192 - accuracy: 0.8167 - val_loss: 0.5475 - val_accuracy: 0.7317\n",
            "Epoch 85/120\n",
            "16/16 [==============================] - 0s 6ms/step - loss: 0.4102 - accuracy: 0.8086 - val_loss: 0.5440 - val_accuracy: 0.7561\n",
            "Epoch 86/120\n",
            "16/16 [==============================] - 0s 6ms/step - loss: 0.4083 - accuracy: 0.8045 - val_loss: 0.5475 - val_accuracy: 0.7398\n",
            "Epoch 87/120\n",
            "16/16 [==============================] - 0s 5ms/step - loss: 0.4056 - accuracy: 0.8248 - val_loss: 0.5482 - val_accuracy: 0.7561\n",
            "Epoch 88/120\n",
            "16/16 [==============================] - 0s 6ms/step - loss: 0.4137 - accuracy: 0.8289 - val_loss: 0.5361 - val_accuracy: 0.7480\n",
            "Epoch 89/120\n",
            "16/16 [==============================] - 0s 6ms/step - loss: 0.4071 - accuracy: 0.8289 - val_loss: 0.5406 - val_accuracy: 0.7398\n",
            "Epoch 90/120\n",
            "16/16 [==============================] - 0s 9ms/step - loss: 0.4188 - accuracy: 0.8045 - val_loss: 0.5358 - val_accuracy: 0.7561\n",
            "Epoch 91/120\n",
            "16/16 [==============================] - 0s 7ms/step - loss: 0.4059 - accuracy: 0.8411 - val_loss: 0.5359 - val_accuracy: 0.7398\n",
            "Epoch 92/120\n",
            "16/16 [==============================] - 0s 5ms/step - loss: 0.3995 - accuracy: 0.8473 - val_loss: 0.5389 - val_accuracy: 0.7480\n",
            "Epoch 93/120\n",
            "16/16 [==============================] - 0s 5ms/step - loss: 0.3966 - accuracy: 0.8310 - val_loss: 0.5384 - val_accuracy: 0.7561\n",
            "Epoch 94/120\n",
            "16/16 [==============================] - 0s 5ms/step - loss: 0.4098 - accuracy: 0.8248 - val_loss: 0.5403 - val_accuracy: 0.7317\n",
            "Epoch 95/120\n",
            "16/16 [==============================] - 0s 7ms/step - loss: 0.3796 - accuracy: 0.8432 - val_loss: 0.5529 - val_accuracy: 0.7398\n",
            "Epoch 96/120\n",
            "16/16 [==============================] - 0s 6ms/step - loss: 0.4205 - accuracy: 0.8310 - val_loss: 0.5526 - val_accuracy: 0.7480\n",
            "Epoch 97/120\n",
            "16/16 [==============================] - 0s 5ms/step - loss: 0.3859 - accuracy: 0.8371 - val_loss: 0.5561 - val_accuracy: 0.7642\n",
            "Epoch 98/120\n",
            "16/16 [==============================] - 0s 5ms/step - loss: 0.3975 - accuracy: 0.8269 - val_loss: 0.5553 - val_accuracy: 0.7480\n",
            "Epoch 99/120\n",
            "16/16 [==============================] - 0s 6ms/step - loss: 0.4097 - accuracy: 0.8126 - val_loss: 0.5468 - val_accuracy: 0.7480\n",
            "Epoch 100/120\n",
            "16/16 [==============================] - 0s 7ms/step - loss: 0.4033 - accuracy: 0.8167 - val_loss: 0.5486 - val_accuracy: 0.7480\n",
            "Epoch 101/120\n",
            "16/16 [==============================] - 0s 8ms/step - loss: 0.4049 - accuracy: 0.8310 - val_loss: 0.5581 - val_accuracy: 0.7480\n",
            "Epoch 102/120\n",
            "16/16 [==============================] - 0s 5ms/step - loss: 0.3869 - accuracy: 0.8350 - val_loss: 0.5481 - val_accuracy: 0.7398\n",
            "Epoch 103/120\n",
            "16/16 [==============================] - 0s 6ms/step - loss: 0.3912 - accuracy: 0.8289 - val_loss: 0.5539 - val_accuracy: 0.7561\n",
            "Epoch 104/120\n",
            "16/16 [==============================] - 0s 7ms/step - loss: 0.3958 - accuracy: 0.8289 - val_loss: 0.5536 - val_accuracy: 0.7561\n",
            "Epoch 105/120\n",
            "16/16 [==============================] - 0s 5ms/step - loss: 0.3884 - accuracy: 0.8330 - val_loss: 0.5604 - val_accuracy: 0.7398\n",
            "Epoch 106/120\n",
            "16/16 [==============================] - 0s 6ms/step - loss: 0.4249 - accuracy: 0.8269 - val_loss: 0.5573 - val_accuracy: 0.7480\n",
            "Epoch 107/120\n",
            "16/16 [==============================] - 0s 5ms/step - loss: 0.3870 - accuracy: 0.8330 - val_loss: 0.5627 - val_accuracy: 0.7480\n",
            "Epoch 108/120\n",
            "16/16 [==============================] - 0s 7ms/step - loss: 0.4099 - accuracy: 0.8167 - val_loss: 0.5577 - val_accuracy: 0.7398\n",
            "Epoch 109/120\n",
            "16/16 [==============================] - 0s 7ms/step - loss: 0.3979 - accuracy: 0.8248 - val_loss: 0.5596 - val_accuracy: 0.7317\n",
            "Epoch 110/120\n",
            "16/16 [==============================] - 0s 8ms/step - loss: 0.3910 - accuracy: 0.8330 - val_loss: 0.5656 - val_accuracy: 0.7236\n",
            "Epoch 111/120\n",
            "16/16 [==============================] - 0s 6ms/step - loss: 0.4120 - accuracy: 0.8208 - val_loss: 0.5549 - val_accuracy: 0.7317\n",
            "Epoch 112/120\n",
            "16/16 [==============================] - 0s 6ms/step - loss: 0.4033 - accuracy: 0.8187 - val_loss: 0.5546 - val_accuracy: 0.7398\n",
            "Epoch 113/120\n",
            "16/16 [==============================] - 0s 6ms/step - loss: 0.3886 - accuracy: 0.8432 - val_loss: 0.5567 - val_accuracy: 0.7317\n",
            "Epoch 114/120\n",
            "16/16 [==============================] - 0s 6ms/step - loss: 0.3863 - accuracy: 0.8432 - val_loss: 0.5710 - val_accuracy: 0.7561\n",
            "Epoch 115/120\n",
            "16/16 [==============================] - 0s 6ms/step - loss: 0.3923 - accuracy: 0.8350 - val_loss: 0.5605 - val_accuracy: 0.7561\n",
            "Epoch 116/120\n",
            "16/16 [==============================] - 0s 6ms/step - loss: 0.3598 - accuracy: 0.8615 - val_loss: 0.5739 - val_accuracy: 0.7561\n",
            "Epoch 117/120\n",
            "16/16 [==============================] - 0s 6ms/step - loss: 0.3740 - accuracy: 0.8350 - val_loss: 0.5748 - val_accuracy: 0.7642\n",
            "Epoch 118/120\n",
            "16/16 [==============================] - 0s 5ms/step - loss: 0.3580 - accuracy: 0.8493 - val_loss: 0.5804 - val_accuracy: 0.7642\n",
            "Epoch 119/120\n",
            "16/16 [==============================] - 0s 7ms/step - loss: 0.3615 - accuracy: 0.8411 - val_loss: 0.5898 - val_accuracy: 0.7480\n",
            "Epoch 120/120\n",
            "16/16 [==============================] - 0s 7ms/step - loss: 0.4070 - accuracy: 0.8350 - val_loss: 0.5712 - val_accuracy: 0.7480\n"
          ]
        },
        {
          "output_type": "execute_result",
          "data": {
            "text/plain": [
              "<keras.src.callbacks.History at 0x797952777520>"
            ]
          },
          "metadata": {},
          "execution_count": 154
        }
      ]
    },
    {
      "cell_type": "markdown",
      "source": [
        "**More complex and easy way**"
      ],
      "metadata": {
        "id": "DUOrHeYZeFsB"
      }
    },
    {
      "cell_type": "code",
      "source": [
        "import numpy as np\n",
        "from tensorflow.keras.models import Sequential\n",
        "from tensorflow.keras.layers import Dense, Dropout, BatchNormalization\n",
        "from tensorflow.keras.optimizers import Adam, SGD, RMSprop, Adadelta\n",
        "from tensorflow.keras.callbacks import EarlyStopping, ReduceLROnPlateau\n",
        "from keras_tuner.tuners import RandomSearch\n",
        "from keras_tuner.engine.hyperparameters import HyperParameters"
      ],
      "metadata": {
        "id": "7DdMnbSHc0Qu"
      },
      "execution_count": 155,
      "outputs": []
    },
    {
      "cell_type": "code",
      "source": [
        "#build model\n",
        "def build_model(hp):\n",
        "    model = Sequential()\n",
        "    num_layers = hp.Int(\"num_layers\", min_value=1, max_value=10)\n",
        "\n",
        "    for i in range(num_layers):\n",
        "        if i == 0:\n",
        "            model.add(Dense(units=hp.Int(\"units\" + str(i), min_value=4, max_value=128, step=6),\n",
        "                            activation=hp.Choice(\"activation\" + str(i), values=[\"relu\", \"tanh\", \"sigmoid\"]),\n",
        "                            input_dim=X_train.shape[1]))\n",
        "        else:\n",
        "            model.add(Dense(units=hp.Int(\"units\" + str(i), min_value=4, max_value=128, step=6),\n",
        "                            activation=hp.Choice(\"activation\" + str(i), values=[\"relu\", \"tanh\", \"sigmoid\"])))\n",
        "\n",
        "        model.add(Dropout(rate=hp.Float(\"dropout\" + str(i), min_value=0.1, max_value=0.7, step=0.1)))\n",
        "        model.add(BatchNormalization())\n",
        "\n",
        "    model.add(Dense(1, activation=\"sigmoid\"))\n",
        "\n",
        "    optimizer = hp.Choice('optimizer', ['adam', 'sgd', 'rmsprop', 'adadelta'])\n",
        "    learning_rate = hp.Choice('learning_rate', values=[1e-2, 1e-3, 1e-4])\n",
        "\n",
        "    if optimizer == 'adam':\n",
        "        optimizer = Adam(learning_rate=learning_rate)\n",
        "    elif optimizer == 'sgd':\n",
        "        optimizer = SGD(learning_rate=learning_rate)\n",
        "    elif optimizer == 'rmsprop':\n",
        "        optimizer = RMSprop(learning_rate=learning_rate)\n",
        "    else:\n",
        "        optimizer = Adadelta(learning_rate=learning_rate)\n",
        "\n",
        "    model.compile(optimizer=optimizer, loss=\"binary_crossentropy\", metrics=[\"accuracy\"])\n",
        "\n",
        "    return model"
      ],
      "metadata": {
        "id": "eCmd5lcWc0Di"
      },
      "execution_count": 156,
      "outputs": []
    },
    {
      "cell_type": "code",
      "source": [
        "# Callbacks definition\n",
        "callbacks = [\n",
        "    EarlyStopping(monitor=\"val_loss\", patience=3, verbose=1, restore_best_weights=True),\n",
        "    ReduceLROnPlateau(monitor=\"val_loss\", factor=0.2, patience=2, verbose=1)\n",
        "]"
      ],
      "metadata": {
        "id": "0_iK3H-Wo801"
      },
      "execution_count": 157,
      "outputs": []
    },
    {
      "cell_type": "code",
      "source": [
        "tuner = RandomSearch(\n",
        "    build_model,\n",
        "    objective=\"val_accuracy\",\n",
        "    max_trials=5,\n",
        "    directory=\"my_dir\",\n",
        "    project_name=\"hyperparameter_tuning\"\n",
        ")"
      ],
      "metadata": {
        "colab": {
          "base_uri": "https://localhost:8080/"
        },
        "id": "kq_UOGU7o2cQ",
        "outputId": "a23fe1cd-d0d1-47e3-ce5e-01f68904db69"
      },
      "execution_count": 158,
      "outputs": [
        {
          "output_type": "stream",
          "name": "stdout",
          "text": [
            "Reloading Tuner from my_dir/hyperparameter_tuning/tuner0.json\n"
          ]
        }
      ]
    },
    {
      "cell_type": "code",
      "source": [
        "# Running the search with the callbacks included and setting the batch size in the search method\n",
        "tuner.search(X_train, y_train,\n",
        "             epochs=5,\n",
        "             validation_data=(X_test, y_test),\n",
        "             callbacks=callbacks,\n",
        "             batch_size=HyperParameters().Choice(\"batch_size\", values=[12, 16, 24, 32, 64]),\n",
        "             verbose=1)"
      ],
      "metadata": {
        "id": "DLAaWRu2oupi"
      },
      "execution_count": 159,
      "outputs": []
    },
    {
      "cell_type": "code",
      "source": [
        "tuner.get_best_hyperparameters()[0].values"
      ],
      "metadata": {
        "colab": {
          "base_uri": "https://localhost:8080/"
        },
        "id": "j00zUyN9pS8o",
        "outputId": "d2a78ae5-03af-46ec-8ab7-b4bf51799b5f"
      },
      "execution_count": 160,
      "outputs": [
        {
          "output_type": "execute_result",
          "data": {
            "text/plain": [
              "{'num_layers': 8,\n",
              " 'units0': 100,\n",
              " 'activation0': 'relu',\n",
              " 'dropout0': 0.5,\n",
              " 'optimizer': 'adadelta',\n",
              " 'learning_rate': 0.0001,\n",
              " 'units1': 94,\n",
              " 'activation1': 'tanh',\n",
              " 'dropout1': 0.1,\n",
              " 'units2': 4,\n",
              " 'activation2': 'sigmoid',\n",
              " 'dropout2': 0.5,\n",
              " 'units3': 22,\n",
              " 'activation3': 'sigmoid',\n",
              " 'dropout3': 0.30000000000000004,\n",
              " 'units4': 34,\n",
              " 'activation4': 'sigmoid',\n",
              " 'dropout4': 0.2,\n",
              " 'units5': 82,\n",
              " 'activation5': 'sigmoid',\n",
              " 'dropout5': 0.2,\n",
              " 'units6': 124,\n",
              " 'activation6': 'relu',\n",
              " 'dropout6': 0.5,\n",
              " 'units7': 46,\n",
              " 'activation7': 'sigmoid',\n",
              " 'dropout7': 0.2}"
            ]
          },
          "metadata": {},
          "execution_count": 160
        }
      ]
    },
    {
      "cell_type": "code",
      "source": [
        "model = tuner.get_best_models(num_models=1)[0]"
      ],
      "metadata": {
        "id": "4sws_HDUoumW"
      },
      "execution_count": 161,
      "outputs": []
    },
    {
      "cell_type": "code",
      "source": [
        "model.fit(X_train,y_train,epochs=120,initial_epoch=5,validation_data=(X_test,y_test),verbose=1)"
      ],
      "metadata": {
        "colab": {
          "base_uri": "https://localhost:8080/"
        },
        "id": "827T0gzPpad3",
        "outputId": "7a90ab2f-428d-4fbd-b83a-a9dc2ebe9767"
      },
      "execution_count": 162,
      "outputs": [
        {
          "output_type": "stream",
          "name": "stdout",
          "text": [
            "Epoch 6/120\n",
            "20/20 [==============================] - 6s 47ms/step - loss: 0.8335 - accuracy: 0.5375 - val_loss: 0.6865 - val_accuracy: 0.6429\n",
            "Epoch 7/120\n",
            "20/20 [==============================] - 0s 14ms/step - loss: 0.8979 - accuracy: 0.5065 - val_loss: 0.6856 - val_accuracy: 0.6429\n",
            "Epoch 8/120\n",
            "20/20 [==============================] - 0s 12ms/step - loss: 0.8883 - accuracy: 0.5065 - val_loss: 0.6826 - val_accuracy: 0.6429\n",
            "Epoch 9/120\n",
            "20/20 [==============================] - 0s 11ms/step - loss: 0.8811 - accuracy: 0.5114 - val_loss: 0.6832 - val_accuracy: 0.6429\n",
            "Epoch 10/120\n",
            "20/20 [==============================] - 0s 9ms/step - loss: 0.8839 - accuracy: 0.4902 - val_loss: 0.6836 - val_accuracy: 0.6429\n",
            "Epoch 11/120\n",
            "20/20 [==============================] - 0s 9ms/step - loss: 0.8958 - accuracy: 0.4902 - val_loss: 0.6833 - val_accuracy: 0.6429\n",
            "Epoch 12/120\n",
            "20/20 [==============================] - 0s 9ms/step - loss: 0.8309 - accuracy: 0.5195 - val_loss: 0.6837 - val_accuracy: 0.6429\n",
            "Epoch 13/120\n",
            "20/20 [==============================] - 0s 9ms/step - loss: 0.8816 - accuracy: 0.4886 - val_loss: 0.6831 - val_accuracy: 0.6429\n",
            "Epoch 14/120\n",
            "20/20 [==============================] - 0s 11ms/step - loss: 0.8629 - accuracy: 0.5016 - val_loss: 0.6816 - val_accuracy: 0.6429\n",
            "Epoch 15/120\n",
            "20/20 [==============================] - 0s 9ms/step - loss: 0.8612 - accuracy: 0.5098 - val_loss: 0.6828 - val_accuracy: 0.6429\n",
            "Epoch 16/120\n",
            "20/20 [==============================] - 0s 8ms/step - loss: 0.8842 - accuracy: 0.4902 - val_loss: 0.6836 - val_accuracy: 0.6429\n",
            "Epoch 17/120\n",
            "20/20 [==============================] - 0s 9ms/step - loss: 0.8603 - accuracy: 0.5016 - val_loss: 0.6849 - val_accuracy: 0.6429\n",
            "Epoch 18/120\n",
            "20/20 [==============================] - 0s 9ms/step - loss: 0.8727 - accuracy: 0.5147 - val_loss: 0.6850 - val_accuracy: 0.6494\n",
            "Epoch 19/120\n",
            "20/20 [==============================] - 0s 12ms/step - loss: 0.8782 - accuracy: 0.5114 - val_loss: 0.6846 - val_accuracy: 0.6494\n",
            "Epoch 20/120\n",
            "20/20 [==============================] - 0s 9ms/step - loss: 0.9161 - accuracy: 0.4707 - val_loss: 0.6835 - val_accuracy: 0.6494\n",
            "Epoch 21/120\n",
            "20/20 [==============================] - 0s 9ms/step - loss: 0.8565 - accuracy: 0.5114 - val_loss: 0.6836 - val_accuracy: 0.6558\n",
            "Epoch 22/120\n",
            "20/20 [==============================] - 0s 9ms/step - loss: 0.9076 - accuracy: 0.4805 - val_loss: 0.6845 - val_accuracy: 0.6364\n",
            "Epoch 23/120\n",
            "20/20 [==============================] - 0s 9ms/step - loss: 0.8600 - accuracy: 0.5081 - val_loss: 0.6864 - val_accuracy: 0.5974\n",
            "Epoch 24/120\n",
            "20/20 [==============================] - 0s 13ms/step - loss: 0.9050 - accuracy: 0.5000 - val_loss: 0.6869 - val_accuracy: 0.6688\n",
            "Epoch 25/120\n",
            "20/20 [==============================] - 0s 9ms/step - loss: 0.9157 - accuracy: 0.4984 - val_loss: 0.6845 - val_accuracy: 0.6429\n",
            "Epoch 26/120\n",
            "20/20 [==============================] - 0s 9ms/step - loss: 0.8871 - accuracy: 0.5179 - val_loss: 0.6825 - val_accuracy: 0.6494\n",
            "Epoch 27/120\n",
            "20/20 [==============================] - 0s 9ms/step - loss: 0.8949 - accuracy: 0.4886 - val_loss: 0.6831 - val_accuracy: 0.6558\n",
            "Epoch 28/120\n",
            "20/20 [==============================] - 0s 9ms/step - loss: 0.8570 - accuracy: 0.5130 - val_loss: 0.6846 - val_accuracy: 0.6558\n",
            "Epoch 29/120\n",
            "20/20 [==============================] - 0s 11ms/step - loss: 0.8544 - accuracy: 0.5195 - val_loss: 0.6851 - val_accuracy: 0.6558\n",
            "Epoch 30/120\n",
            "20/20 [==============================] - 0s 9ms/step - loss: 0.8807 - accuracy: 0.5163 - val_loss: 0.6836 - val_accuracy: 0.6558\n",
            "Epoch 31/120\n",
            "20/20 [==============================] - 0s 9ms/step - loss: 0.8889 - accuracy: 0.5016 - val_loss: 0.6831 - val_accuracy: 0.6494\n",
            "Epoch 32/120\n",
            "20/20 [==============================] - 0s 9ms/step - loss: 0.8791 - accuracy: 0.5081 - val_loss: 0.6870 - val_accuracy: 0.6364\n",
            "Epoch 33/120\n",
            "20/20 [==============================] - 0s 9ms/step - loss: 0.8940 - accuracy: 0.4739 - val_loss: 0.6858 - val_accuracy: 0.6494\n",
            "Epoch 34/120\n",
            "20/20 [==============================] - 0s 12ms/step - loss: 0.8785 - accuracy: 0.5016 - val_loss: 0.6849 - val_accuracy: 0.6494\n",
            "Epoch 35/120\n",
            "20/20 [==============================] - 0s 9ms/step - loss: 0.9163 - accuracy: 0.4853 - val_loss: 0.6839 - val_accuracy: 0.6494\n",
            "Epoch 36/120\n",
            "20/20 [==============================] - 0s 9ms/step - loss: 0.9075 - accuracy: 0.4951 - val_loss: 0.6832 - val_accuracy: 0.6494\n",
            "Epoch 37/120\n",
            "20/20 [==============================] - 0s 9ms/step - loss: 0.8986 - accuracy: 0.5000 - val_loss: 0.6869 - val_accuracy: 0.6494\n",
            "Epoch 38/120\n",
            "20/20 [==============================] - 0s 9ms/step - loss: 0.8823 - accuracy: 0.5130 - val_loss: 0.6872 - val_accuracy: 0.6234\n",
            "Epoch 39/120\n",
            "20/20 [==============================] - 0s 11ms/step - loss: 0.9095 - accuracy: 0.4935 - val_loss: 0.6896 - val_accuracy: 0.5649\n",
            "Epoch 40/120\n",
            "20/20 [==============================] - 0s 10ms/step - loss: 0.9615 - accuracy: 0.4609 - val_loss: 0.6895 - val_accuracy: 0.5519\n",
            "Epoch 41/120\n",
            "20/20 [==============================] - 0s 9ms/step - loss: 0.9185 - accuracy: 0.4528 - val_loss: 0.6870 - val_accuracy: 0.6623\n",
            "Epoch 42/120\n",
            "20/20 [==============================] - 0s 9ms/step - loss: 0.8794 - accuracy: 0.5016 - val_loss: 0.6831 - val_accuracy: 0.6558\n",
            "Epoch 43/120\n",
            "20/20 [==============================] - 0s 8ms/step - loss: 0.9225 - accuracy: 0.4837 - val_loss: 0.6857 - val_accuracy: 0.6429\n",
            "Epoch 44/120\n",
            "20/20 [==============================] - 0s 11ms/step - loss: 0.8552 - accuracy: 0.5244 - val_loss: 0.6862 - val_accuracy: 0.6364\n",
            "Epoch 45/120\n",
            "20/20 [==============================] - 0s 9ms/step - loss: 0.9144 - accuracy: 0.4788 - val_loss: 0.6874 - val_accuracy: 0.6169\n",
            "Epoch 46/120\n",
            "20/20 [==============================] - 0s 9ms/step - loss: 0.8435 - accuracy: 0.5179 - val_loss: 0.6870 - val_accuracy: 0.6234\n",
            "Epoch 47/120\n",
            "20/20 [==============================] - 0s 10ms/step - loss: 0.8997 - accuracy: 0.4853 - val_loss: 0.6856 - val_accuracy: 0.6494\n",
            "Epoch 48/120\n",
            "20/20 [==============================] - 0s 8ms/step - loss: 0.8711 - accuracy: 0.5163 - val_loss: 0.6841 - val_accuracy: 0.6429\n",
            "Epoch 49/120\n",
            "20/20 [==============================] - 0s 11ms/step - loss: 0.8652 - accuracy: 0.4935 - val_loss: 0.6827 - val_accuracy: 0.6494\n",
            "Epoch 50/120\n",
            "20/20 [==============================] - 0s 10ms/step - loss: 0.8816 - accuracy: 0.4935 - val_loss: 0.6829 - val_accuracy: 0.6494\n",
            "Epoch 51/120\n",
            "20/20 [==============================] - 0s 9ms/step - loss: 0.8857 - accuracy: 0.5049 - val_loss: 0.6827 - val_accuracy: 0.6429\n",
            "Epoch 52/120\n",
            "20/20 [==============================] - 0s 9ms/step - loss: 0.8837 - accuracy: 0.4935 - val_loss: 0.6834 - val_accuracy: 0.6494\n",
            "Epoch 53/120\n",
            "20/20 [==============================] - 0s 8ms/step - loss: 0.8787 - accuracy: 0.5065 - val_loss: 0.6844 - val_accuracy: 0.6494\n",
            "Epoch 54/120\n",
            "20/20 [==============================] - 0s 11ms/step - loss: 0.8702 - accuracy: 0.5212 - val_loss: 0.6820 - val_accuracy: 0.6429\n",
            "Epoch 55/120\n",
            "20/20 [==============================] - 0s 10ms/step - loss: 0.8854 - accuracy: 0.5049 - val_loss: 0.6832 - val_accuracy: 0.6429\n",
            "Epoch 56/120\n",
            "20/20 [==============================] - 0s 10ms/step - loss: 0.8864 - accuracy: 0.5147 - val_loss: 0.6806 - val_accuracy: 0.6429\n",
            "Epoch 57/120\n",
            "20/20 [==============================] - 0s 9ms/step - loss: 0.8645 - accuracy: 0.5342 - val_loss: 0.6812 - val_accuracy: 0.6494\n",
            "Epoch 58/120\n",
            "20/20 [==============================] - 0s 12ms/step - loss: 0.8699 - accuracy: 0.5065 - val_loss: 0.6829 - val_accuracy: 0.6429\n",
            "Epoch 59/120\n",
            "20/20 [==============================] - 0s 14ms/step - loss: 0.8129 - accuracy: 0.5505 - val_loss: 0.6836 - val_accuracy: 0.6818\n",
            "Epoch 60/120\n",
            "20/20 [==============================] - 0s 14ms/step - loss: 0.8371 - accuracy: 0.5147 - val_loss: 0.6847 - val_accuracy: 0.6558\n",
            "Epoch 61/120\n",
            "20/20 [==============================] - 0s 13ms/step - loss: 0.8628 - accuracy: 0.5049 - val_loss: 0.6853 - val_accuracy: 0.6558\n",
            "Epoch 62/120\n",
            "20/20 [==============================] - 0s 13ms/step - loss: 0.9122 - accuracy: 0.4723 - val_loss: 0.6855 - val_accuracy: 0.6623\n",
            "Epoch 63/120\n",
            "20/20 [==============================] - 0s 14ms/step - loss: 0.8594 - accuracy: 0.5033 - val_loss: 0.6857 - val_accuracy: 0.6753\n",
            "Epoch 64/120\n",
            "20/20 [==============================] - 0s 13ms/step - loss: 0.8700 - accuracy: 0.5147 - val_loss: 0.6868 - val_accuracy: 0.6429\n",
            "Epoch 65/120\n",
            "20/20 [==============================] - 0s 13ms/step - loss: 0.9027 - accuracy: 0.4674 - val_loss: 0.6857 - val_accuracy: 0.6364\n",
            "Epoch 66/120\n",
            "20/20 [==============================] - 0s 16ms/step - loss: 0.9519 - accuracy: 0.4870 - val_loss: 0.6871 - val_accuracy: 0.5844\n",
            "Epoch 67/120\n",
            "20/20 [==============================] - 0s 16ms/step - loss: 0.8666 - accuracy: 0.5147 - val_loss: 0.6888 - val_accuracy: 0.5779\n",
            "Epoch 68/120\n",
            "20/20 [==============================] - 0s 13ms/step - loss: 0.9021 - accuracy: 0.4837 - val_loss: 0.6897 - val_accuracy: 0.5649\n",
            "Epoch 69/120\n",
            "20/20 [==============================] - 0s 15ms/step - loss: 0.8964 - accuracy: 0.4984 - val_loss: 0.6896 - val_accuracy: 0.5844\n",
            "Epoch 70/120\n",
            "20/20 [==============================] - 0s 14ms/step - loss: 0.8505 - accuracy: 0.4984 - val_loss: 0.6894 - val_accuracy: 0.5714\n",
            "Epoch 71/120\n",
            "20/20 [==============================] - 0s 13ms/step - loss: 0.9103 - accuracy: 0.5033 - val_loss: 0.6895 - val_accuracy: 0.5584\n",
            "Epoch 72/120\n",
            "20/20 [==============================] - 0s 8ms/step - loss: 0.8642 - accuracy: 0.5033 - val_loss: 0.6901 - val_accuracy: 0.5649\n",
            "Epoch 73/120\n",
            "20/20 [==============================] - 0s 10ms/step - loss: 0.8765 - accuracy: 0.5163 - val_loss: 0.6922 - val_accuracy: 0.5455\n",
            "Epoch 74/120\n",
            "20/20 [==============================] - 0s 10ms/step - loss: 0.8244 - accuracy: 0.5407 - val_loss: 0.6932 - val_accuracy: 0.5714\n",
            "Epoch 75/120\n",
            "20/20 [==============================] - 0s 9ms/step - loss: 0.8990 - accuracy: 0.4951 - val_loss: 0.6928 - val_accuracy: 0.5455\n",
            "Epoch 76/120\n",
            "20/20 [==============================] - 0s 10ms/step - loss: 0.8822 - accuracy: 0.4919 - val_loss: 0.6878 - val_accuracy: 0.6364\n",
            "Epoch 77/120\n",
            "20/20 [==============================] - 0s 9ms/step - loss: 0.9390 - accuracy: 0.4707 - val_loss: 0.6891 - val_accuracy: 0.6039\n",
            "Epoch 78/120\n",
            "20/20 [==============================] - 0s 10ms/step - loss: 0.8869 - accuracy: 0.4984 - val_loss: 0.6915 - val_accuracy: 0.5195\n",
            "Epoch 79/120\n",
            "20/20 [==============================] - 0s 10ms/step - loss: 0.8435 - accuracy: 0.5163 - val_loss: 0.6873 - val_accuracy: 0.6299\n",
            "Epoch 80/120\n",
            "20/20 [==============================] - 0s 10ms/step - loss: 0.9157 - accuracy: 0.4707 - val_loss: 0.6888 - val_accuracy: 0.6104\n",
            "Epoch 81/120\n",
            "20/20 [==============================] - 0s 10ms/step - loss: 0.9018 - accuracy: 0.4853 - val_loss: 0.6868 - val_accuracy: 0.6364\n",
            "Epoch 82/120\n",
            "20/20 [==============================] - 0s 9ms/step - loss: 0.8763 - accuracy: 0.5212 - val_loss: 0.6841 - val_accuracy: 0.6494\n",
            "Epoch 83/120\n",
            "20/20 [==============================] - 0s 12ms/step - loss: 0.8495 - accuracy: 0.5114 - val_loss: 0.6808 - val_accuracy: 0.6429\n",
            "Epoch 84/120\n",
            "20/20 [==============================] - 0s 10ms/step - loss: 0.8636 - accuracy: 0.5179 - val_loss: 0.6796 - val_accuracy: 0.6429\n",
            "Epoch 85/120\n",
            "20/20 [==============================] - 0s 9ms/step - loss: 0.9317 - accuracy: 0.4951 - val_loss: 0.6802 - val_accuracy: 0.6429\n",
            "Epoch 86/120\n",
            "20/20 [==============================] - 0s 9ms/step - loss: 0.8649 - accuracy: 0.5163 - val_loss: 0.6818 - val_accuracy: 0.6429\n",
            "Epoch 87/120\n",
            "20/20 [==============================] - 0s 9ms/step - loss: 0.8550 - accuracy: 0.5228 - val_loss: 0.6809 - val_accuracy: 0.6429\n",
            "Epoch 88/120\n",
            "20/20 [==============================] - 0s 11ms/step - loss: 0.8803 - accuracy: 0.4821 - val_loss: 0.6823 - val_accuracy: 0.6429\n",
            "Epoch 89/120\n",
            "20/20 [==============================] - 0s 9ms/step - loss: 0.8898 - accuracy: 0.5098 - val_loss: 0.6807 - val_accuracy: 0.6429\n",
            "Epoch 90/120\n",
            "20/20 [==============================] - 0s 9ms/step - loss: 0.8441 - accuracy: 0.5212 - val_loss: 0.6807 - val_accuracy: 0.6429\n",
            "Epoch 91/120\n",
            "20/20 [==============================] - 0s 11ms/step - loss: 0.9090 - accuracy: 0.4642 - val_loss: 0.6817 - val_accuracy: 0.6429\n",
            "Epoch 92/120\n",
            "20/20 [==============================] - 0s 9ms/step - loss: 0.9089 - accuracy: 0.4967 - val_loss: 0.6838 - val_accuracy: 0.6558\n",
            "Epoch 93/120\n",
            "20/20 [==============================] - 0s 11ms/step - loss: 0.8845 - accuracy: 0.4919 - val_loss: 0.6849 - val_accuracy: 0.6364\n",
            "Epoch 94/120\n",
            "20/20 [==============================] - 0s 9ms/step - loss: 0.9075 - accuracy: 0.4853 - val_loss: 0.6861 - val_accuracy: 0.6688\n",
            "Epoch 95/120\n",
            "20/20 [==============================] - 0s 8ms/step - loss: 0.9562 - accuracy: 0.4723 - val_loss: 0.6810 - val_accuracy: 0.6494\n",
            "Epoch 96/120\n",
            "20/20 [==============================] - 0s 9ms/step - loss: 0.8801 - accuracy: 0.4984 - val_loss: 0.6821 - val_accuracy: 0.6494\n",
            "Epoch 97/120\n",
            "20/20 [==============================] - 0s 9ms/step - loss: 0.9406 - accuracy: 0.4772 - val_loss: 0.6815 - val_accuracy: 0.6494\n",
            "Epoch 98/120\n",
            "20/20 [==============================] - 0s 11ms/step - loss: 0.8940 - accuracy: 0.4984 - val_loss: 0.6840 - val_accuracy: 0.6429\n",
            "Epoch 99/120\n",
            "20/20 [==============================] - 0s 9ms/step - loss: 0.8901 - accuracy: 0.4919 - val_loss: 0.6857 - val_accuracy: 0.6818\n",
            "Epoch 100/120\n",
            "20/20 [==============================] - 0s 9ms/step - loss: 0.9142 - accuracy: 0.4691 - val_loss: 0.6882 - val_accuracy: 0.5714\n",
            "Epoch 101/120\n",
            "20/20 [==============================] - 0s 9ms/step - loss: 0.8737 - accuracy: 0.5000 - val_loss: 0.6843 - val_accuracy: 0.6688\n",
            "Epoch 102/120\n",
            "20/20 [==============================] - 0s 10ms/step - loss: 0.9028 - accuracy: 0.4658 - val_loss: 0.6832 - val_accuracy: 0.6494\n",
            "Epoch 103/120\n",
            "20/20 [==============================] - 0s 11ms/step - loss: 0.8584 - accuracy: 0.5130 - val_loss: 0.6849 - val_accuracy: 0.6818\n",
            "Epoch 104/120\n",
            "20/20 [==============================] - 0s 9ms/step - loss: 0.8946 - accuracy: 0.5114 - val_loss: 0.6836 - val_accuracy: 0.6364\n",
            "Epoch 105/120\n",
            "20/20 [==============================] - 0s 10ms/step - loss: 0.8619 - accuracy: 0.4886 - val_loss: 0.6844 - val_accuracy: 0.6429\n",
            "Epoch 106/120\n",
            "20/20 [==============================] - 0s 9ms/step - loss: 0.8796 - accuracy: 0.4951 - val_loss: 0.6862 - val_accuracy: 0.6364\n",
            "Epoch 107/120\n",
            "20/20 [==============================] - 0s 10ms/step - loss: 0.8763 - accuracy: 0.5163 - val_loss: 0.6860 - val_accuracy: 0.6364\n",
            "Epoch 108/120\n",
            "20/20 [==============================] - 0s 12ms/step - loss: 0.8879 - accuracy: 0.5195 - val_loss: 0.6853 - val_accuracy: 0.6429\n",
            "Epoch 109/120\n",
            "20/20 [==============================] - 0s 10ms/step - loss: 0.8725 - accuracy: 0.4870 - val_loss: 0.6843 - val_accuracy: 0.6558\n",
            "Epoch 110/120\n",
            "20/20 [==============================] - 0s 9ms/step - loss: 0.8828 - accuracy: 0.4788 - val_loss: 0.6830 - val_accuracy: 0.6494\n",
            "Epoch 111/120\n",
            "20/20 [==============================] - 0s 9ms/step - loss: 0.8788 - accuracy: 0.4691 - val_loss: 0.6842 - val_accuracy: 0.6688\n",
            "Epoch 112/120\n",
            "20/20 [==============================] - 0s 10ms/step - loss: 0.8564 - accuracy: 0.5016 - val_loss: 0.6859 - val_accuracy: 0.6753\n",
            "Epoch 113/120\n",
            "20/20 [==============================] - 0s 11ms/step - loss: 0.9275 - accuracy: 0.4837 - val_loss: 0.6871 - val_accuracy: 0.6558\n",
            "Epoch 114/120\n",
            "20/20 [==============================] - 0s 9ms/step - loss: 0.8835 - accuracy: 0.4919 - val_loss: 0.6859 - val_accuracy: 0.6818\n",
            "Epoch 115/120\n",
            "20/20 [==============================] - 0s 9ms/step - loss: 0.9003 - accuracy: 0.5033 - val_loss: 0.6840 - val_accuracy: 0.6623\n",
            "Epoch 116/120\n",
            "20/20 [==============================] - 0s 9ms/step - loss: 0.8452 - accuracy: 0.5081 - val_loss: 0.6859 - val_accuracy: 0.6558\n",
            "Epoch 117/120\n",
            "20/20 [==============================] - 0s 10ms/step - loss: 0.8972 - accuracy: 0.4853 - val_loss: 0.6872 - val_accuracy: 0.6364\n",
            "Epoch 118/120\n",
            "20/20 [==============================] - 0s 10ms/step - loss: 0.9088 - accuracy: 0.4691 - val_loss: 0.6858 - val_accuracy: 0.6558\n",
            "Epoch 119/120\n",
            "20/20 [==============================] - 0s 9ms/step - loss: 0.8594 - accuracy: 0.5033 - val_loss: 0.6856 - val_accuracy: 0.6558\n",
            "Epoch 120/120\n",
            "20/20 [==============================] - 0s 10ms/step - loss: 0.9004 - accuracy: 0.4707 - val_loss: 0.6873 - val_accuracy: 0.6623\n"
          ]
        },
        {
          "output_type": "execute_result",
          "data": {
            "text/plain": [
              "<keras.src.callbacks.History at 0x797951afedd0>"
            ]
          },
          "metadata": {},
          "execution_count": 162
        }
      ]
    },
    {
      "cell_type": "markdown",
      "source": [
        "**You can add more**"
      ],
      "metadata": {
        "id": "IF-OhHnXrZ4-"
      }
    }
  ]
}